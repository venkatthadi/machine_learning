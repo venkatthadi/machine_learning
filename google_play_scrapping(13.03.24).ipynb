{
  "nbformat": 4,
  "nbformat_minor": 0,
  "metadata": {
    "colab": {
      "provenance": []
    },
    "kernelspec": {
      "name": "python3",
      "display_name": "Python 3"
    },
    "language_info": {
      "name": "python"
    }
  },
  "cells": [
    {
      "cell_type": "markdown",
      "source": [
        "## Prerequisite"
      ],
      "metadata": {
        "id": "7dLBpCsPAWJl"
      }
    },
    {
      "cell_type": "code",
      "execution_count": 1,
      "metadata": {
        "colab": {
          "base_uri": "https://localhost:8080/"
        },
        "id": "4MGU-RecRw4i",
        "outputId": "a77c02c2-fba2-40ae-d94a-19226820161c"
      },
      "outputs": [
        {
          "output_type": "stream",
          "name": "stdout",
          "text": [
            "Requirement already satisfied: google-play-scraper in /usr/local/lib/python3.10/dist-packages (1.2.6)\n"
          ]
        }
      ],
      "source": [
        "!pip install google-play-scraper"
      ]
    },
    {
      "cell_type": "markdown",
      "source": [
        "Import libraries"
      ],
      "metadata": {
        "id": "B1kZLtPStP_t"
      }
    },
    {
      "cell_type": "code",
      "source": [
        "from google_play_scraper import app, Sort, reviews_all\n",
        "import pandas as pd\n",
        "import numpy as np\n",
        "import json, os, uuid\n",
        "from sklearn.model_selection import train_test_split\n",
        "\n",
        "import re\n",
        "import nltk\n",
        "from nltk.corpus import stopwords\n",
        "import tensorflow as tf\n",
        "from keras.preprocessing.text import one_hot, Tokenizer\n",
        "from keras.utils import pad_sequences\n",
        "from keras.models import Sequential\n",
        "from keras.layers import Activation, Dropout, Dense\n",
        "from keras.layers import Flatten, GlobalMaxPooling1D, Embedding, Conv1D, LSTM"
      ],
      "metadata": {
        "id": "Swn0udqsR2r6"
      },
      "execution_count": 2,
      "outputs": []
    },
    {
      "cell_type": "code",
      "source": [
        "nltk.download('stopwords')"
      ],
      "metadata": {
        "colab": {
          "base_uri": "https://localhost:8080/"
        },
        "id": "3WH2wrBRD3Qi",
        "outputId": "6d55d78e-09b5-4174-c16b-c687ce239cb1"
      },
      "execution_count": 3,
      "outputs": [
        {
          "output_type": "stream",
          "name": "stderr",
          "text": [
            "[nltk_data] Downloading package stopwords to /root/nltk_data...\n",
            "[nltk_data]   Package stopwords is already up-to-date!\n"
          ]
        },
        {
          "output_type": "execute_result",
          "data": {
            "text/plain": [
              "True"
            ]
          },
          "metadata": {},
          "execution_count": 3
        }
      ]
    },
    {
      "cell_type": "markdown",
      "source": [
        "Collect google play reviews using google-play-scraper"
      ],
      "metadata": {
        "id": "-eXG20BEtUOG"
      }
    },
    {
      "cell_type": "code",
      "source": [
        "g_reviews = reviews_all(\n",
        "        \"mobicip.com.safeBrowserff\", # application ID\n",
        "        sleep_milliseconds=0, # defaults to 0\n",
        "        lang='en', # defaults to 'en'\n",
        "        country='us', # defaults to 'us'\n",
        "        sort=Sort.NEWEST, # defaults to Sort.MOST_RELEVANT\n",
        "    )"
      ],
      "metadata": {
        "id": "iegri5bcR_0e"
      },
      "execution_count": 4,
      "outputs": []
    },
    {
      "cell_type": "markdown",
      "source": [
        "## Data pre-processing"
      ],
      "metadata": {
        "id": "Zx9cqWB1uGHW"
      }
    },
    {
      "cell_type": "markdown",
      "source": [
        "### Arrange data into dataframes"
      ],
      "metadata": {
        "id": "8zz08SUGtbnV"
      }
    },
    {
      "cell_type": "code",
      "source": [
        "g_df = pd.DataFrame(np.array(g_reviews),columns=['review'])\n",
        "g_df2 = g_df.join(pd.DataFrame(g_df.pop('review').tolist()))"
      ],
      "metadata": {
        "id": "dyiLxb_2SMck"
      },
      "execution_count": 5,
      "outputs": []
    },
    {
      "cell_type": "code",
      "source": [
        "g_df2.drop(columns={'userImage', 'reviewCreatedVersion'},inplace = True) # drop unnecessary columns\n",
        "g_df2.rename(columns= {'score': 'rating','userName': 'user_name', 'reviewId': 'review_id', 'content': 'review_description', 'at': 'review_date', 'replyContent': 'developer_response', 'repliedAt': 'developer_response_date', 'thumbsUpCount': 'thumbs_up'},inplace = True)\n",
        "# g_df2.insert(loc=0, column='source', value='Google Play')\n",
        "# g_df2.insert(loc=3, column='review_title', value=None)\n",
        "# g_df2['laguage_code'] = 'en'\n",
        "# g_df2['country_code'] = 'us'"
      ],
      "metadata": {
        "id": "xqhaHsohTHaO"
      },
      "execution_count": 6,
      "outputs": []
    },
    {
      "cell_type": "code",
      "source": [
        "g_df2.shape"
      ],
      "metadata": {
        "colab": {
          "base_uri": "https://localhost:8080/"
        },
        "id": "465zh3akVH94",
        "outputId": "220e1aa5-2369-4b1d-f5cc-7b8f9e6fd235"
      },
      "execution_count": 7,
      "outputs": [
        {
          "output_type": "execute_result",
          "data": {
            "text/plain": [
              "(597, 9)"
            ]
          },
          "metadata": {},
          "execution_count": 7
        }
      ]
    },
    {
      "cell_type": "code",
      "source": [
        "# storing into a .csv file for future use\n",
        "\n",
        "g_df2.to_csv('play_reviews.csv')"
      ],
      "metadata": {
        "id": "uNJiShJiVX9N"
      },
      "execution_count": 8,
      "outputs": []
    },
    {
      "cell_type": "code",
      "source": [
        "g_df2['rating'].value_counts()"
      ],
      "metadata": {
        "colab": {
          "base_uri": "https://localhost:8080/"
        },
        "id": "_vBKxUUOZQA7",
        "outputId": "e87cc3ec-1016-4ab2-cc08-cc1c90d4eeea"
      },
      "execution_count": 9,
      "outputs": [
        {
          "output_type": "execute_result",
          "data": {
            "text/plain": [
              "1    305\n",
              "5    195\n",
              "2     46\n",
              "3     30\n",
              "4     21\n",
              "Name: rating, dtype: int64"
            ]
          },
          "metadata": {},
          "execution_count": 9
        }
      ]
    },
    {
      "cell_type": "code",
      "source": [
        "g_df2.head()"
      ],
      "metadata": {
        "colab": {
          "base_uri": "https://localhost:8080/",
          "height": 330
        },
        "id": "fJyfpSVCqI4_",
        "outputId": "03b3571a-4d3a-4a96-d345-a5acd7baa99e"
      },
      "execution_count": 10,
      "outputs": [
        {
          "output_type": "execute_result",
          "data": {
            "text/plain": [
              "                              review_id                user_name  \\\n",
              "0  9b96fe32-d8bc-448f-bf37-eaa79506a6b6         Tugsan Topcuoglu   \n",
              "1  d5cb1046-ee6d-4fc5-ac03-c873e6ded9df          Roxanne LaRusso   \n",
              "2  fe265e2e-117d-42b2-b8ca-63fc24e551b3  Williamcadder Mutevedzi   \n",
              "3  f44146dc-a7a3-445e-8183-6b153f482555                Justyna D   \n",
              "4  69bc7a7b-1cca-409f-96b1-8b19288ab427             Liam Whitwam   \n",
              "\n",
              "                                  review_description  rating  thumbs_up  \\\n",
              "0                                      Waste of time       1          0   \n",
              "1  I am extremely impressed with Mobicip's Custom...       5          0   \n",
              "2                                           Friendly       5          0   \n",
              "3                                      Does not work       1          0   \n",
              "4                                    Invades privacy       1          0   \n",
              "\n",
              "          review_date developer_response developer_response_date  appVersion  \n",
              "0 2024-03-05 22:28:33               None                     NaT  2.2.8_r824  \n",
              "1 2024-02-26 14:15:52               None                     NaT        None  \n",
              "2 2024-02-24 16:43:47               None                     NaT        None  \n",
              "3 2024-02-21 19:36:51               None                     NaT  2.2.7_r812  \n",
              "4 2024-02-13 03:48:45               None                     NaT  2.2.4_r791  "
            ],
            "text/html": [
              "\n",
              "  <div id=\"df-676d396a-fc85-416e-9431-ff47e79a0a77\" class=\"colab-df-container\">\n",
              "    <div>\n",
              "<style scoped>\n",
              "    .dataframe tbody tr th:only-of-type {\n",
              "        vertical-align: middle;\n",
              "    }\n",
              "\n",
              "    .dataframe tbody tr th {\n",
              "        vertical-align: top;\n",
              "    }\n",
              "\n",
              "    .dataframe thead th {\n",
              "        text-align: right;\n",
              "    }\n",
              "</style>\n",
              "<table border=\"1\" class=\"dataframe\">\n",
              "  <thead>\n",
              "    <tr style=\"text-align: right;\">\n",
              "      <th></th>\n",
              "      <th>review_id</th>\n",
              "      <th>user_name</th>\n",
              "      <th>review_description</th>\n",
              "      <th>rating</th>\n",
              "      <th>thumbs_up</th>\n",
              "      <th>review_date</th>\n",
              "      <th>developer_response</th>\n",
              "      <th>developer_response_date</th>\n",
              "      <th>appVersion</th>\n",
              "    </tr>\n",
              "  </thead>\n",
              "  <tbody>\n",
              "    <tr>\n",
              "      <th>0</th>\n",
              "      <td>9b96fe32-d8bc-448f-bf37-eaa79506a6b6</td>\n",
              "      <td>Tugsan Topcuoglu</td>\n",
              "      <td>Waste of time</td>\n",
              "      <td>1</td>\n",
              "      <td>0</td>\n",
              "      <td>2024-03-05 22:28:33</td>\n",
              "      <td>None</td>\n",
              "      <td>NaT</td>\n",
              "      <td>2.2.8_r824</td>\n",
              "    </tr>\n",
              "    <tr>\n",
              "      <th>1</th>\n",
              "      <td>d5cb1046-ee6d-4fc5-ac03-c873e6ded9df</td>\n",
              "      <td>Roxanne LaRusso</td>\n",
              "      <td>I am extremely impressed with Mobicip's Custom...</td>\n",
              "      <td>5</td>\n",
              "      <td>0</td>\n",
              "      <td>2024-02-26 14:15:52</td>\n",
              "      <td>None</td>\n",
              "      <td>NaT</td>\n",
              "      <td>None</td>\n",
              "    </tr>\n",
              "    <tr>\n",
              "      <th>2</th>\n",
              "      <td>fe265e2e-117d-42b2-b8ca-63fc24e551b3</td>\n",
              "      <td>Williamcadder Mutevedzi</td>\n",
              "      <td>Friendly</td>\n",
              "      <td>5</td>\n",
              "      <td>0</td>\n",
              "      <td>2024-02-24 16:43:47</td>\n",
              "      <td>None</td>\n",
              "      <td>NaT</td>\n",
              "      <td>None</td>\n",
              "    </tr>\n",
              "    <tr>\n",
              "      <th>3</th>\n",
              "      <td>f44146dc-a7a3-445e-8183-6b153f482555</td>\n",
              "      <td>Justyna D</td>\n",
              "      <td>Does not work</td>\n",
              "      <td>1</td>\n",
              "      <td>0</td>\n",
              "      <td>2024-02-21 19:36:51</td>\n",
              "      <td>None</td>\n",
              "      <td>NaT</td>\n",
              "      <td>2.2.7_r812</td>\n",
              "    </tr>\n",
              "    <tr>\n",
              "      <th>4</th>\n",
              "      <td>69bc7a7b-1cca-409f-96b1-8b19288ab427</td>\n",
              "      <td>Liam Whitwam</td>\n",
              "      <td>Invades privacy</td>\n",
              "      <td>1</td>\n",
              "      <td>0</td>\n",
              "      <td>2024-02-13 03:48:45</td>\n",
              "      <td>None</td>\n",
              "      <td>NaT</td>\n",
              "      <td>2.2.4_r791</td>\n",
              "    </tr>\n",
              "  </tbody>\n",
              "</table>\n",
              "</div>\n",
              "    <div class=\"colab-df-buttons\">\n",
              "\n",
              "  <div class=\"colab-df-container\">\n",
              "    <button class=\"colab-df-convert\" onclick=\"convertToInteractive('df-676d396a-fc85-416e-9431-ff47e79a0a77')\"\n",
              "            title=\"Convert this dataframe to an interactive table.\"\n",
              "            style=\"display:none;\">\n",
              "\n",
              "  <svg xmlns=\"http://www.w3.org/2000/svg\" height=\"24px\" viewBox=\"0 -960 960 960\">\n",
              "    <path d=\"M120-120v-720h720v720H120Zm60-500h600v-160H180v160Zm220 220h160v-160H400v160Zm0 220h160v-160H400v160ZM180-400h160v-160H180v160Zm440 0h160v-160H620v160ZM180-180h160v-160H180v160Zm440 0h160v-160H620v160Z\"/>\n",
              "  </svg>\n",
              "    </button>\n",
              "\n",
              "  <style>\n",
              "    .colab-df-container {\n",
              "      display:flex;\n",
              "      gap: 12px;\n",
              "    }\n",
              "\n",
              "    .colab-df-convert {\n",
              "      background-color: #E8F0FE;\n",
              "      border: none;\n",
              "      border-radius: 50%;\n",
              "      cursor: pointer;\n",
              "      display: none;\n",
              "      fill: #1967D2;\n",
              "      height: 32px;\n",
              "      padding: 0 0 0 0;\n",
              "      width: 32px;\n",
              "    }\n",
              "\n",
              "    .colab-df-convert:hover {\n",
              "      background-color: #E2EBFA;\n",
              "      box-shadow: 0px 1px 2px rgba(60, 64, 67, 0.3), 0px 1px 3px 1px rgba(60, 64, 67, 0.15);\n",
              "      fill: #174EA6;\n",
              "    }\n",
              "\n",
              "    .colab-df-buttons div {\n",
              "      margin-bottom: 4px;\n",
              "    }\n",
              "\n",
              "    [theme=dark] .colab-df-convert {\n",
              "      background-color: #3B4455;\n",
              "      fill: #D2E3FC;\n",
              "    }\n",
              "\n",
              "    [theme=dark] .colab-df-convert:hover {\n",
              "      background-color: #434B5C;\n",
              "      box-shadow: 0px 1px 3px 1px rgba(0, 0, 0, 0.15);\n",
              "      filter: drop-shadow(0px 1px 2px rgba(0, 0, 0, 0.3));\n",
              "      fill: #FFFFFF;\n",
              "    }\n",
              "  </style>\n",
              "\n",
              "    <script>\n",
              "      const buttonEl =\n",
              "        document.querySelector('#df-676d396a-fc85-416e-9431-ff47e79a0a77 button.colab-df-convert');\n",
              "      buttonEl.style.display =\n",
              "        google.colab.kernel.accessAllowed ? 'block' : 'none';\n",
              "\n",
              "      async function convertToInteractive(key) {\n",
              "        const element = document.querySelector('#df-676d396a-fc85-416e-9431-ff47e79a0a77');\n",
              "        const dataTable =\n",
              "          await google.colab.kernel.invokeFunction('convertToInteractive',\n",
              "                                                    [key], {});\n",
              "        if (!dataTable) return;\n",
              "\n",
              "        const docLinkHtml = 'Like what you see? Visit the ' +\n",
              "          '<a target=\"_blank\" href=https://colab.research.google.com/notebooks/data_table.ipynb>data table notebook</a>'\n",
              "          + ' to learn more about interactive tables.';\n",
              "        element.innerHTML = '';\n",
              "        dataTable['output_type'] = 'display_data';\n",
              "        await google.colab.output.renderOutput(dataTable, element);\n",
              "        const docLink = document.createElement('div');\n",
              "        docLink.innerHTML = docLinkHtml;\n",
              "        element.appendChild(docLink);\n",
              "      }\n",
              "    </script>\n",
              "  </div>\n",
              "\n",
              "\n",
              "<div id=\"df-1ce98a65-7f48-483b-9130-0a2ccaed0290\">\n",
              "  <button class=\"colab-df-quickchart\" onclick=\"quickchart('df-1ce98a65-7f48-483b-9130-0a2ccaed0290')\"\n",
              "            title=\"Suggest charts\"\n",
              "            style=\"display:none;\">\n",
              "\n",
              "<svg xmlns=\"http://www.w3.org/2000/svg\" height=\"24px\"viewBox=\"0 0 24 24\"\n",
              "     width=\"24px\">\n",
              "    <g>\n",
              "        <path d=\"M19 3H5c-1.1 0-2 .9-2 2v14c0 1.1.9 2 2 2h14c1.1 0 2-.9 2-2V5c0-1.1-.9-2-2-2zM9 17H7v-7h2v7zm4 0h-2V7h2v10zm4 0h-2v-4h2v4z\"/>\n",
              "    </g>\n",
              "</svg>\n",
              "  </button>\n",
              "\n",
              "<style>\n",
              "  .colab-df-quickchart {\n",
              "      --bg-color: #E8F0FE;\n",
              "      --fill-color: #1967D2;\n",
              "      --hover-bg-color: #E2EBFA;\n",
              "      --hover-fill-color: #174EA6;\n",
              "      --disabled-fill-color: #AAA;\n",
              "      --disabled-bg-color: #DDD;\n",
              "  }\n",
              "\n",
              "  [theme=dark] .colab-df-quickchart {\n",
              "      --bg-color: #3B4455;\n",
              "      --fill-color: #D2E3FC;\n",
              "      --hover-bg-color: #434B5C;\n",
              "      --hover-fill-color: #FFFFFF;\n",
              "      --disabled-bg-color: #3B4455;\n",
              "      --disabled-fill-color: #666;\n",
              "  }\n",
              "\n",
              "  .colab-df-quickchart {\n",
              "    background-color: var(--bg-color);\n",
              "    border: none;\n",
              "    border-radius: 50%;\n",
              "    cursor: pointer;\n",
              "    display: none;\n",
              "    fill: var(--fill-color);\n",
              "    height: 32px;\n",
              "    padding: 0;\n",
              "    width: 32px;\n",
              "  }\n",
              "\n",
              "  .colab-df-quickchart:hover {\n",
              "    background-color: var(--hover-bg-color);\n",
              "    box-shadow: 0 1px 2px rgba(60, 64, 67, 0.3), 0 1px 3px 1px rgba(60, 64, 67, 0.15);\n",
              "    fill: var(--button-hover-fill-color);\n",
              "  }\n",
              "\n",
              "  .colab-df-quickchart-complete:disabled,\n",
              "  .colab-df-quickchart-complete:disabled:hover {\n",
              "    background-color: var(--disabled-bg-color);\n",
              "    fill: var(--disabled-fill-color);\n",
              "    box-shadow: none;\n",
              "  }\n",
              "\n",
              "  .colab-df-spinner {\n",
              "    border: 2px solid var(--fill-color);\n",
              "    border-color: transparent;\n",
              "    border-bottom-color: var(--fill-color);\n",
              "    animation:\n",
              "      spin 1s steps(1) infinite;\n",
              "  }\n",
              "\n",
              "  @keyframes spin {\n",
              "    0% {\n",
              "      border-color: transparent;\n",
              "      border-bottom-color: var(--fill-color);\n",
              "      border-left-color: var(--fill-color);\n",
              "    }\n",
              "    20% {\n",
              "      border-color: transparent;\n",
              "      border-left-color: var(--fill-color);\n",
              "      border-top-color: var(--fill-color);\n",
              "    }\n",
              "    30% {\n",
              "      border-color: transparent;\n",
              "      border-left-color: var(--fill-color);\n",
              "      border-top-color: var(--fill-color);\n",
              "      border-right-color: var(--fill-color);\n",
              "    }\n",
              "    40% {\n",
              "      border-color: transparent;\n",
              "      border-right-color: var(--fill-color);\n",
              "      border-top-color: var(--fill-color);\n",
              "    }\n",
              "    60% {\n",
              "      border-color: transparent;\n",
              "      border-right-color: var(--fill-color);\n",
              "    }\n",
              "    80% {\n",
              "      border-color: transparent;\n",
              "      border-right-color: var(--fill-color);\n",
              "      border-bottom-color: var(--fill-color);\n",
              "    }\n",
              "    90% {\n",
              "      border-color: transparent;\n",
              "      border-bottom-color: var(--fill-color);\n",
              "    }\n",
              "  }\n",
              "</style>\n",
              "\n",
              "  <script>\n",
              "    async function quickchart(key) {\n",
              "      const quickchartButtonEl =\n",
              "        document.querySelector('#' + key + ' button');\n",
              "      quickchartButtonEl.disabled = true;  // To prevent multiple clicks.\n",
              "      quickchartButtonEl.classList.add('colab-df-spinner');\n",
              "      try {\n",
              "        const charts = await google.colab.kernel.invokeFunction(\n",
              "            'suggestCharts', [key], {});\n",
              "      } catch (error) {\n",
              "        console.error('Error during call to suggestCharts:', error);\n",
              "      }\n",
              "      quickchartButtonEl.classList.remove('colab-df-spinner');\n",
              "      quickchartButtonEl.classList.add('colab-df-quickchart-complete');\n",
              "    }\n",
              "    (() => {\n",
              "      let quickchartButtonEl =\n",
              "        document.querySelector('#df-1ce98a65-7f48-483b-9130-0a2ccaed0290 button');\n",
              "      quickchartButtonEl.style.display =\n",
              "        google.colab.kernel.accessAllowed ? 'block' : 'none';\n",
              "    })();\n",
              "  </script>\n",
              "</div>\n",
              "    </div>\n",
              "  </div>\n"
            ],
            "application/vnd.google.colaboratory.intrinsic+json": {
              "type": "dataframe",
              "variable_name": "g_df2",
              "summary": "{\n  \"name\": \"g_df2\",\n  \"rows\": 597,\n  \"fields\": [\n    {\n      \"column\": \"review_id\",\n      \"properties\": {\n        \"dtype\": \"string\",\n        \"num_unique_values\": 597,\n        \"samples\": [\n          \"3ea834b3-b19c-40d4-a8cb-b1586d502263\",\n          \"f7c5415b-2c54-402b-b217-09a578e2a73d\",\n          \"58689f52-8029-46b4-80c4-0d905bbad9e8\"\n        ],\n        \"semantic_type\": \"\",\n        \"description\": \"\"\n      }\n    },\n    {\n      \"column\": \"user_name\",\n      \"properties\": {\n        \"dtype\": \"category\",\n        \"num_unique_values\": 126,\n        \"samples\": [\n          \"Tamara Lynn\",\n          \"Matthew Dean\",\n          \"Peyton Williams\"\n        ],\n        \"semantic_type\": \"\",\n        \"description\": \"\"\n      }\n    },\n    {\n      \"column\": \"review_description\",\n      \"properties\": {\n        \"dtype\": \"string\",\n        \"num_unique_values\": 593,\n        \"samples\": [\n          \"IDK! NVR USED IT!\",\n          \"Won't delete from my kids tablet. Keeps locking me out even when I put in the password.\",\n          \"I want to deactivate and I can't\"\n        ],\n        \"semantic_type\": \"\",\n        \"description\": \"\"\n      }\n    },\n    {\n      \"column\": \"rating\",\n      \"properties\": {\n        \"dtype\": \"number\",\n        \"std\": 1,\n        \"min\": 1,\n        \"max\": 5,\n        \"num_unique_values\": 5,\n        \"samples\": [\n          5,\n          3,\n          4\n        ],\n        \"semantic_type\": \"\",\n        \"description\": \"\"\n      }\n    },\n    {\n      \"column\": \"thumbs_up\",\n      \"properties\": {\n        \"dtype\": \"number\",\n        \"std\": 3,\n        \"min\": 0,\n        \"max\": 35,\n        \"num_unique_values\": 21,\n        \"samples\": [\n          0,\n          20,\n          13\n        ],\n        \"semantic_type\": \"\",\n        \"description\": \"\"\n      }\n    },\n    {\n      \"column\": \"review_date\",\n      \"properties\": {\n        \"dtype\": \"date\",\n        \"min\": \"2017-04-19 08:43:43\",\n        \"max\": \"2024-03-05 22:28:33\",\n        \"num_unique_values\": 597,\n        \"samples\": [\n          \"2020-07-02 02:35:52\",\n          \"2017-10-06 05:18:55\",\n          \"2020-04-03 16:11:21\"\n        ],\n        \"semantic_type\": \"\",\n        \"description\": \"\"\n      }\n    },\n    {\n      \"column\": \"developer_response\",\n      \"properties\": {\n        \"dtype\": \"string\",\n        \"num_unique_values\": 461,\n        \"samples\": [\n          \"@Tanvi, thank you so much. Any referrals would be great!\",\n          \"@Claudia Gonzalez, we are pleased that you enjoyed the app. If there is anything we can do for you, just let us know at support@mobicip.com! Have a wonderful day!\",\n          \"@scientist, very sorry to hear that you don't like the app. Would you mind telling us what you dislike about it? Please write to us at support@mobicip.com. We'll be grateful for your feedback.\"\n        ],\n        \"semantic_type\": \"\",\n        \"description\": \"\"\n      }\n    },\n    {\n      \"column\": \"developer_response_date\",\n      \"properties\": {\n        \"dtype\": \"date\",\n        \"min\": \"2015-03-21 14:01:38\",\n        \"max\": \"2023-07-23 13:45:09\",\n        \"num_unique_values\": 521,\n        \"samples\": [\n          \"2017-07-26 10:01:23\",\n          \"2020-06-22 05:12:46\",\n          \"2023-02-09 13:21:53\"\n        ],\n        \"semantic_type\": \"\",\n        \"description\": \"\"\n      }\n    },\n    {\n      \"column\": \"appVersion\",\n      \"properties\": {\n        \"dtype\": \"category\",\n        \"num_unique_values\": 40,\n        \"samples\": [\n          \"3.0.1_r1504\",\n          \"2.1.8_r411\",\n          \"2.1.9_r434\"\n        ],\n        \"semantic_type\": \"\",\n        \"description\": \"\"\n      }\n    }\n  ]\n}"
            }
          },
          "metadata": {},
          "execution_count": 10
        }
      ]
    },
    {
      "cell_type": "markdown",
      "source": [
        "### Establishing data (X, Y)"
      ],
      "metadata": {
        "id": "HP3iRlfVvZ3e"
      }
    },
    {
      "cell_type": "code",
      "source": [
        "# read data from csv\n",
        "\n",
        "df = pd.read_csv('/content/play_reviews.csv')"
      ],
      "metadata": {
        "id": "mg2lE76qAowu"
      },
      "execution_count": 11,
      "outputs": []
    },
    {
      "cell_type": "code",
      "source": [
        "# create new column for binary classification\n",
        "\n",
        "df['feedback'] = df['rating'].apply(lambda x: 0 if x < 3 else 1)"
      ],
      "metadata": {
        "id": "dBuJ3Qy0BFSL"
      },
      "execution_count": 12,
      "outputs": []
    },
    {
      "cell_type": "code",
      "source": [
        "# declare variables\n",
        "\n",
        "X = df['review_description']\n",
        "Y = df['feedback']"
      ],
      "metadata": {
        "id": "UPuInsCFsPOU"
      },
      "execution_count": 13,
      "outputs": []
    },
    {
      "cell_type": "code",
      "source": [
        "# get count of vocabulary\n",
        "\n",
        "print(\"Number of words: \")\n",
        "print(len(np.unique(np.hstack(X))))"
      ],
      "metadata": {
        "colab": {
          "base_uri": "https://localhost:8080/"
        },
        "id": "r8dkv3WPrzi7",
        "outputId": "8763feea-5de7-431d-bd91-26135d69ed1e"
      },
      "execution_count": 14,
      "outputs": [
        {
          "output_type": "stream",
          "name": "stdout",
          "text": [
            "Number of words: \n",
            "593\n"
          ]
        }
      ]
    },
    {
      "cell_type": "code",
      "source": [
        "# check if any null values are present in reviews part\n",
        "\n",
        "X.isnull().values.any()"
      ],
      "metadata": {
        "colab": {
          "base_uri": "https://localhost:8080/"
        },
        "id": "5JEy4SxuEBMR",
        "outputId": "dbd43a38-40d5-4db0-9f71-a22d38fd5b52"
      },
      "execution_count": 15,
      "outputs": [
        {
          "output_type": "execute_result",
          "data": {
            "text/plain": [
              "False"
            ]
          },
          "metadata": {},
          "execution_count": 15
        }
      ]
    },
    {
      "cell_type": "markdown",
      "source": [
        "### Preparing data for embedding"
      ],
      "metadata": {
        "id": "EGUq3vk9FF6r"
      }
    },
    {
      "cell_type": "code",
      "source": [
        "stopwords_list = set(stopwords.words('english'))"
      ],
      "metadata": {
        "id": "gfa2scc6FFYM"
      },
      "execution_count": 16,
      "outputs": []
    },
    {
      "cell_type": "code",
      "source": [
        "class CustomPreprocess():\n",
        "\n",
        "    def __init__(self):\n",
        "        pass\n",
        "\n",
        "    def preprocess_text(self,sen):\n",
        "        sen = sen.lower()\n",
        "\n",
        "        # # Remove html tags\n",
        "        # sentence = remove_tags(sen)\n",
        "\n",
        "        # Remove punctuations and numbers\n",
        "        sen = re.sub('[^a-zA-Z]', ' ', sen)\n",
        "\n",
        "        # Single character removal\n",
        "        sen = re.sub(r\"\\s+[a-zA-Z]\\s+\", ' ', sen)\n",
        "\n",
        "        # Remove multiple spaces\n",
        "        sen = re.sub(r'\\s+', ' ', sen)\n",
        "\n",
        "        # Remove Stopwords\n",
        "        pattern = re.compile(r'\\b(' + r'|'.join(stopwords_list) + r')\\b\\s*')\n",
        "        sen = pattern.sub('', sen)\n",
        "\n",
        "        return sen"
      ],
      "metadata": {
        "id": "WetEZkZzFPg-"
      },
      "execution_count": 17,
      "outputs": []
    },
    {
      "cell_type": "code",
      "source": [
        "# define preprocessing\n",
        "\n",
        "custom = CustomPreprocess()\n",
        "X_new = []\n",
        "sentences = list(X)\n",
        "for sen in sentences:\n",
        "  X_new.append(custom.preprocess_text(sen))"
      ],
      "metadata": {
        "id": "_mzD3AaYFpbu"
      },
      "execution_count": 18,
      "outputs": []
    },
    {
      "cell_type": "code",
      "source": [
        "type(X_new[0])"
      ],
      "metadata": {
        "colab": {
          "base_uri": "https://localhost:8080/"
        },
        "id": "TE6Kjo2GIpjh",
        "outputId": "cdb71b97-5a3f-4c6d-a864-3490227493d0"
      },
      "execution_count": 101,
      "outputs": [
        {
          "output_type": "execute_result",
          "data": {
            "text/plain": [
              "str"
            ]
          },
          "metadata": {},
          "execution_count": 101
        }
      ]
    },
    {
      "cell_type": "code",
      "source": [
        "# split data into training and testing sets\n",
        "\n",
        "X_train, X_test, Y_train, Y_test = train_test_split(X_new, Y, test_size = 0.25)"
      ],
      "metadata": {
        "id": "0TYra4J_tMbx"
      },
      "execution_count": 19,
      "outputs": []
    },
    {
      "cell_type": "markdown",
      "source": [
        "## Word embeddings"
      ],
      "metadata": {
        "id": "ZTTjGndCAJkA"
      }
    },
    {
      "cell_type": "code",
      "source": [
        "# tokenize the sentences into arrays of words\n",
        "\n",
        "word_tokenizer = Tokenizer()\n",
        "word_tokenizer.fit_on_texts(X_new)\n",
        "\n",
        "X_train = word_tokenizer.texts_to_sequences(X_train)\n",
        "X_test = word_tokenizer.texts_to_sequences(X_test)"
      ],
      "metadata": {
        "id": "VKP2_AFnAPjR"
      },
      "execution_count": 20,
      "outputs": []
    },
    {
      "cell_type": "code",
      "source": [
        "vocab_length = len(word_tokenizer.word_index) + 1\n",
        "\n",
        "vocab_length"
      ],
      "metadata": {
        "colab": {
          "base_uri": "https://localhost:8080/"
        },
        "id": "1qMEx4HyJpHs",
        "outputId": "26f8d352-ada3-40a1-aef4-b82ebf7b996b"
      },
      "execution_count": 21,
      "outputs": [
        {
          "output_type": "execute_result",
          "data": {
            "text/plain": [
              "2242"
            ]
          },
          "metadata": {},
          "execution_count": 21
        }
      ]
    },
    {
      "cell_type": "code",
      "source": [
        "# Padding all reviews to fixed length 100\n",
        "\n",
        "X_train = pad_sequences(X_train, padding='post', maxlen = 100)\n",
        "X_test = pad_sequences(X_test, padding='post', maxlen = 100)"
      ],
      "metadata": {
        "id": "1V37IJNLKJCQ"
      },
      "execution_count": 22,
      "outputs": []
    },
    {
      "cell_type": "code",
      "source": [
        "# Load GloVe word embeddings and create an Embeddings Dictionary\n",
        "\n",
        "from numpy import asarray\n",
        "from numpy import zeros\n",
        "\n",
        "embeddings_dictionary = dict()\n",
        "glove_file = open('/content/drive/MyDrive/Datasets/glove.6B.100d.txt', encoding=\"utf8\")\n",
        "\n",
        "for line in glove_file:\n",
        "    records = line.split()\n",
        "    word = records[0]\n",
        "    vector_dimensions = asarray(records[1:], dtype='float32')\n",
        "    embeddings_dictionary [word] = vector_dimensions\n",
        "\n",
        "glove_file.close()"
      ],
      "metadata": {
        "id": "6NuG3kXjNx5R"
      },
      "execution_count": 23,
      "outputs": []
    },
    {
      "cell_type": "code",
      "source": [
        "# Create Embedding Matrix having 100 columns\n",
        "# Containing 100-dimensional GloVe word embeddings for all words in our corpus.\n",
        "\n",
        "embedding_matrix = zeros((vocab_length, 100))\n",
        "\n",
        "for word, index in word_tokenizer.word_index.items():\n",
        "    embedding_vector = embeddings_dictionary.get(word)\n",
        "    if embedding_vector is not None:\n",
        "        embedding_matrix[index] = embedding_vector"
      ],
      "metadata": {
        "id": "E4yLKGwVNytv"
      },
      "execution_count": 24,
      "outputs": []
    },
    {
      "cell_type": "markdown",
      "source": [
        "## Models"
      ],
      "metadata": {
        "id": "uuJuVBPDvxBc"
      }
    },
    {
      "cell_type": "markdown",
      "source": [
        "### ANN"
      ],
      "metadata": {
        "id": "_H4i_qFoOMlf"
      }
    },
    {
      "cell_type": "code",
      "source": [
        "# simple neural network\n",
        "\n",
        "ann_model = Sequential([\n",
        "    Embedding(vocab_length, 100, weights = [embedding_matrix], input_length = 100, trainable = False),\n",
        "    Flatten(),\n",
        "    Dense(1, activation = 'sigmoid'),\n",
        "])\n",
        "\n",
        "# compile the model\n",
        "\n",
        "ann_model.compile(optimizer = 'adam', loss = 'binary_crossentropy', metrics = ['acc'])\n",
        "\n",
        "print(ann_model.summary())"
      ],
      "metadata": {
        "colab": {
          "base_uri": "https://localhost:8080/"
        },
        "id": "7dYcPJ2Gvv0N",
        "outputId": "be3e7aab-556b-42f7-8bac-b41a5f20becb"
      },
      "execution_count": 25,
      "outputs": [
        {
          "output_type": "stream",
          "name": "stdout",
          "text": [
            "Model: \"sequential\"\n",
            "_________________________________________________________________\n",
            " Layer (type)                Output Shape              Param #   \n",
            "=================================================================\n",
            " embedding (Embedding)       (None, 100, 100)          224200    \n",
            "                                                                 \n",
            " flatten (Flatten)           (None, 10000)             0         \n",
            "                                                                 \n",
            " dense (Dense)               (None, 1)                 10001     \n",
            "                                                                 \n",
            "=================================================================\n",
            "Total params: 234201 (914.85 KB)\n",
            "Trainable params: 10001 (39.07 KB)\n",
            "Non-trainable params: 224200 (875.78 KB)\n",
            "_________________________________________________________________\n",
            "None\n"
          ]
        }
      ]
    },
    {
      "cell_type": "code",
      "source": [
        "# train the model\n",
        "\n",
        "ann_history = ann_model.fit(X_train, Y_train, batch_size = 128, epochs = 5, verbose = 2, validation_split = 0.2)"
      ],
      "metadata": {
        "colab": {
          "base_uri": "https://localhost:8080/"
        },
        "id": "aJ1rtx1YPuMn",
        "outputId": "0291a37c-43f6-498a-834c-339dbdb6c305"
      },
      "execution_count": 26,
      "outputs": [
        {
          "output_type": "stream",
          "name": "stdout",
          "text": [
            "Epoch 1/5\n",
            "3/3 - 2s - loss: 0.7184 - acc: 0.4986 - val_loss: 0.6603 - val_acc: 0.6556 - 2s/epoch - 546ms/step\n",
            "Epoch 2/5\n",
            "3/3 - 0s - loss: 0.6390 - acc: 0.6387 - val_loss: 0.6391 - val_acc: 0.7000 - 96ms/epoch - 32ms/step\n",
            "Epoch 3/5\n",
            "3/3 - 0s - loss: 0.5859 - acc: 0.7703 - val_loss: 0.6262 - val_acc: 0.7444 - 106ms/epoch - 35ms/step\n",
            "Epoch 4/5\n",
            "3/3 - 0s - loss: 0.5490 - acc: 0.8039 - val_loss: 0.6136 - val_acc: 0.7667 - 96ms/epoch - 32ms/step\n",
            "Epoch 5/5\n",
            "3/3 - 0s - loss: 0.5201 - acc: 0.8487 - val_loss: 0.5988 - val_acc: 0.7667 - 138ms/epoch - 46ms/step\n"
          ]
        }
      ]
    },
    {
      "cell_type": "code",
      "source": [
        "# get the loss and accuracy\n",
        "\n",
        "ann_score = ann_model.evaluate(X_test, Y_test, verbose = 1)"
      ],
      "metadata": {
        "colab": {
          "base_uri": "https://localhost:8080/"
        },
        "id": "su2qpnvMQMCX",
        "outputId": "754633d0-06da-49cc-e859-b50be79fba82"
      },
      "execution_count": 27,
      "outputs": [
        {
          "output_type": "stream",
          "name": "stdout",
          "text": [
            "5/5 [==============================] - 0s 3ms/step - loss: 0.6588 - acc: 0.7133\n"
          ]
        }
      ]
    },
    {
      "cell_type": "markdown",
      "source": [
        "### CNN"
      ],
      "metadata": {
        "id": "0mYTTVKdXUBw"
      }
    },
    {
      "cell_type": "code",
      "source": [
        "from keras.layers import Conv1D"
      ],
      "metadata": {
        "id": "g6Ryr4a-XVov"
      },
      "execution_count": 28,
      "outputs": []
    },
    {
      "cell_type": "code",
      "source": [
        "# define the model\n",
        "\n",
        "cnn_model = Sequential([\n",
        "    Embedding(vocab_length, 100, weights = [embedding_matrix], input_length = 100, trainable = False),\n",
        "    Conv1D(128, 5, activation = 'relu'),\n",
        "    GlobalMaxPooling1D(),\n",
        "    Dense(1, activation = 'sigmoid')\n",
        "])\n",
        "\n",
        "# compile the model\n",
        "\n",
        "cnn_model.compile(optimizer = 'adam', loss = 'binary_crossentropy', metrics = ['acc'])\n",
        "\n",
        "print(cnn_model.summary())"
      ],
      "metadata": {
        "colab": {
          "base_uri": "https://localhost:8080/"
        },
        "id": "qWYBLYTEXebe",
        "outputId": "920c0dca-1152-411e-f78f-dfc41d8767dd"
      },
      "execution_count": 29,
      "outputs": [
        {
          "output_type": "stream",
          "name": "stdout",
          "text": [
            "Model: \"sequential_1\"\n",
            "_________________________________________________________________\n",
            " Layer (type)                Output Shape              Param #   \n",
            "=================================================================\n",
            " embedding_1 (Embedding)     (None, 100, 100)          224200    \n",
            "                                                                 \n",
            " conv1d (Conv1D)             (None, 96, 128)           64128     \n",
            "                                                                 \n",
            " global_max_pooling1d (Glob  (None, 128)               0         \n",
            " alMaxPooling1D)                                                 \n",
            "                                                                 \n",
            " dense_1 (Dense)             (None, 1)                 129       \n",
            "                                                                 \n",
            "=================================================================\n",
            "Total params: 288457 (1.10 MB)\n",
            "Trainable params: 64257 (251.00 KB)\n",
            "Non-trainable params: 224200 (875.78 KB)\n",
            "_________________________________________________________________\n",
            "None\n"
          ]
        }
      ]
    },
    {
      "cell_type": "code",
      "source": [
        "cnn_history = cnn_model.fit(X_train, Y_train, batch_size = 128, epochs = 5, verbose = 2, validation_split = 0.2)"
      ],
      "metadata": {
        "colab": {
          "base_uri": "https://localhost:8080/"
        },
        "id": "WaLamX5KZr-H",
        "outputId": "8df2301e-fac5-4a96-8974-21abdd3f29fd"
      },
      "execution_count": 30,
      "outputs": [
        {
          "output_type": "stream",
          "name": "stdout",
          "text": [
            "Epoch 1/5\n",
            "3/3 - 1s - loss: 0.6915 - acc: 0.5602 - val_loss: 0.5871 - val_acc: 0.7111 - 1s/epoch - 395ms/step\n",
            "Epoch 2/5\n",
            "3/3 - 0s - loss: 0.5368 - acc: 0.8235 - val_loss: 0.5383 - val_acc: 0.8333 - 286ms/epoch - 95ms/step\n",
            "Epoch 3/5\n",
            "3/3 - 0s - loss: 0.4439 - acc: 0.8964 - val_loss: 0.4941 - val_acc: 0.8000 - 293ms/epoch - 98ms/step\n",
            "Epoch 4/5\n",
            "3/3 - 0s - loss: 0.3757 - acc: 0.9076 - val_loss: 0.4617 - val_acc: 0.8444 - 292ms/epoch - 97ms/step\n",
            "Epoch 5/5\n",
            "3/3 - 0s - loss: 0.3275 - acc: 0.9524 - val_loss: 0.4416 - val_acc: 0.8333 - 311ms/epoch - 104ms/step\n"
          ]
        }
      ]
    },
    {
      "cell_type": "code",
      "source": [
        "cnn_score = cnn_model.evaluate(X_test, Y_test, verbose = 1)"
      ],
      "metadata": {
        "colab": {
          "base_uri": "https://localhost:8080/"
        },
        "id": "6vqmoIjdaJIx",
        "outputId": "6c0a8d7d-7c43-4b85-edb9-56ae95b6c18b"
      },
      "execution_count": 31,
      "outputs": [
        {
          "output_type": "stream",
          "name": "stdout",
          "text": [
            "5/5 [==============================] - 0s 19ms/step - loss: 0.4937 - acc: 0.7933\n"
          ]
        }
      ]
    },
    {
      "cell_type": "markdown",
      "source": [
        "### LSTM"
      ],
      "metadata": {
        "id": "21JzY7bhamEZ"
      }
    },
    {
      "cell_type": "code",
      "source": [
        "from keras.layers import LSTM"
      ],
      "metadata": {
        "id": "YiaFVuGUaSYj"
      },
      "execution_count": 32,
      "outputs": []
    },
    {
      "cell_type": "code",
      "source": [
        "# define the model\n",
        "\n",
        "rnn_model = Sequential([\n",
        "    Embedding(vocab_length, 100, weights = [embedding_matrix], input_length = 100, trainable = False),\n",
        "    LSTM(128),\n",
        "    Dense(1, activation = 'sigmoid')\n",
        "])\n",
        "\n",
        "# compile the model\n",
        "\n",
        "rnn_model.compile(optimizer = 'adam', loss = 'binary_crossentropy', metrics = ['acc'])\n",
        "\n",
        "print(rnn_model.summary())"
      ],
      "metadata": {
        "colab": {
          "base_uri": "https://localhost:8080/"
        },
        "id": "qbxdS3pSarE1",
        "outputId": "4c1c6def-d044-485d-f499-ca26d54accf5"
      },
      "execution_count": 33,
      "outputs": [
        {
          "output_type": "stream",
          "name": "stdout",
          "text": [
            "Model: \"sequential_2\"\n",
            "_________________________________________________________________\n",
            " Layer (type)                Output Shape              Param #   \n",
            "=================================================================\n",
            " embedding_2 (Embedding)     (None, 100, 100)          224200    \n",
            "                                                                 \n",
            " lstm (LSTM)                 (None, 128)               117248    \n",
            "                                                                 \n",
            " dense_2 (Dense)             (None, 1)                 129       \n",
            "                                                                 \n",
            "=================================================================\n",
            "Total params: 341577 (1.30 MB)\n",
            "Trainable params: 117377 (458.50 KB)\n",
            "Non-trainable params: 224200 (875.78 KB)\n",
            "_________________________________________________________________\n",
            "None\n"
          ]
        }
      ]
    },
    {
      "cell_type": "code",
      "source": [
        "rnn_history = rnn_model.fit(X_train, Y_train, batch_size = 128, epochs = 5, verbose = 2, validation_split = 0.2)"
      ],
      "metadata": {
        "colab": {
          "base_uri": "https://localhost:8080/"
        },
        "id": "Bmp3Qj2gbJbV",
        "outputId": "43a41526-cbe6-441e-cc12-eeee14386395"
      },
      "execution_count": 34,
      "outputs": [
        {
          "output_type": "stream",
          "name": "stdout",
          "text": [
            "Epoch 1/5\n",
            "3/3 - 5s - loss: 0.6923 - acc: 0.5574 - val_loss: 0.6872 - val_acc: 0.6333 - 5s/epoch - 2s/step\n",
            "Epoch 2/5\n",
            "3/3 - 1s - loss: 0.6855 - acc: 0.5966 - val_loss: 0.6781 - val_acc: 0.6444 - 943ms/epoch - 314ms/step\n",
            "Epoch 3/5\n",
            "3/3 - 1s - loss: 0.6774 - acc: 0.5966 - val_loss: 0.6605 - val_acc: 0.6444 - 934ms/epoch - 311ms/step\n",
            "Epoch 4/5\n",
            "3/3 - 1s - loss: 0.6710 - acc: 0.5994 - val_loss: 0.6509 - val_acc: 0.6444 - 923ms/epoch - 308ms/step\n",
            "Epoch 5/5\n",
            "3/3 - 1s - loss: 0.6690 - acc: 0.5994 - val_loss: 0.6513 - val_acc: 0.6444 - 977ms/epoch - 326ms/step\n"
          ]
        }
      ]
    },
    {
      "cell_type": "code",
      "source": [
        "rnn_score = rnn_model.evaluate(X_test, Y_test, verbose = 1)"
      ],
      "metadata": {
        "colab": {
          "base_uri": "https://localhost:8080/"
        },
        "id": "dQBpZF-ubVZm",
        "outputId": "57e46ac7-5fd1-42a1-84f7-669b63423573"
      },
      "execution_count": 35,
      "outputs": [
        {
          "output_type": "stream",
          "name": "stdout",
          "text": [
            "5/5 [==============================] - 1s 110ms/step - loss: 0.6976 - acc: 0.5400\n"
          ]
        }
      ]
    },
    {
      "cell_type": "markdown",
      "source": [
        "## Testing models"
      ],
      "metadata": {
        "id": "eHs6CoSsvThb"
      }
    },
    {
      "cell_type": "code",
      "source": [
        "sen = [\n",
        "    \"i liked it\",\n",
        "    \"nice\",\n",
        "    \"i was buggy and lagging\"\n",
        "    ]\n",
        "\n",
        "processed_data = []\n",
        "\n",
        "for s in sen:\n",
        "  processed_data.append(custom.preprocess_text(s))\n",
        "\n",
        "processed_data = word_tokenizer.texts_to_sequences(processed_data)\n",
        "processed_data = pad_sequences(processed_data, padding = 'post', maxlen = 100)\n",
        "\n",
        "output = cnn_model.predict(processed_data)\n",
        "print(output)"
      ],
      "metadata": {
        "colab": {
          "base_uri": "https://localhost:8080/"
        },
        "id": "_qGEwp-Jv9yJ",
        "outputId": "fceb077b-a2f9-4525-94d0-aed318473f30"
      },
      "execution_count": 43,
      "outputs": [
        {
          "output_type": "stream",
          "name": "stdout",
          "text": [
            "1/1 [==============================] - 0s 36ms/step\n",
            "[[0.4553344 ]\n",
            " [0.46020716]\n",
            " [0.41867155]]\n"
          ]
        }
      ]
    },
    {
      "cell_type": "code",
      "source": [],
      "metadata": {
        "id": "cR4Uj1ZR2Gae"
      },
      "execution_count": null,
      "outputs": []
    }
  ]
}