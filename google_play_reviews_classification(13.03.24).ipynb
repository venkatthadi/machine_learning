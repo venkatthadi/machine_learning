{
  "cells": [
    {
      "cell_type": "markdown",
      "metadata": {
        "id": "7dLBpCsPAWJl"
      },
      "source": [
        "## Prerequisite"
      ]
    },
    {
      "cell_type": "code",
      "execution_count": 1,
      "metadata": {
        "colab": {
          "base_uri": "https://localhost:8080/"
        },
        "id": "4MGU-RecRw4i",
        "outputId": "a77c02c2-fba2-40ae-d94a-19226820161c"
      },
      "outputs": [],
      "source": [
        "# !pip install google-play-scraper\n",
        "# !pip install nltk\n",
        "# !pip install tensorflow"
      ]
    },
    {
      "cell_type": "markdown",
      "metadata": {
        "id": "B1kZLtPStP_t"
      },
      "source": [
        "Import libraries"
      ]
    },
    {
      "cell_type": "code",
      "execution_count": 1,
      "metadata": {
        "id": "Swn0udqsR2r6"
      },
      "outputs": [
        {
          "name": "stderr",
          "output_type": "stream",
          "text": [
            "2024-03-15 10:35:19.936053: I tensorflow/tsl/cuda/cudart_stub.cc:28] Could not find cuda drivers on your machine, GPU will not be used.\n",
            "2024-03-15 10:35:20.544696: I tensorflow/tsl/cuda/cudart_stub.cc:28] Could not find cuda drivers on your machine, GPU will not be used.\n",
            "2024-03-15 10:35:20.547397: I tensorflow/core/platform/cpu_feature_guard.cc:182] This TensorFlow binary is optimized to use available CPU instructions in performance-critical operations.\n",
            "To enable the following instructions: AVX2 FMA, in other operations, rebuild TensorFlow with the appropriate compiler flags.\n",
            "2024-03-15 10:35:21.834027: W tensorflow/compiler/tf2tensorrt/utils/py_utils.cc:38] TF-TRT Warning: Could not find TensorRT\n"
          ]
        }
      ],
      "source": [
        "from google_play_scraper import app, Sort, reviews_all\n",
        "import pandas as pd\n",
        "import numpy as np\n",
        "import json, os, uuid\n",
        "from sklearn.model_selection import train_test_split\n",
        "\n",
        "import re\n",
        "import nltk\n",
        "from nltk.corpus import stopwords\n",
        "import tensorflow as tf\n",
        "from keras.preprocessing.text import one_hot, Tokenizer\n",
        "from keras.utils import pad_sequences\n",
        "from keras.models import Sequential\n",
        "from keras.layers import Activation, Dropout, Dense\n",
        "from keras.layers import Flatten, GlobalMaxPooling1D, Embedding, Conv1D, LSTM"
      ]
    },
    {
      "cell_type": "code",
      "execution_count": 2,
      "metadata": {
        "colab": {
          "base_uri": "https://localhost:8080/"
        },
        "id": "3WH2wrBRD3Qi",
        "outputId": "6d55d78e-09b5-4174-c16b-c687ce239cb1"
      },
      "outputs": [
        {
          "name": "stderr",
          "output_type": "stream",
          "text": [
            "[nltk_data] Downloading package stopwords to /home/user/nltk_data...\n",
            "[nltk_data]   Package stopwords is already up-to-date!\n"
          ]
        },
        {
          "data": {
            "text/plain": [
              "True"
            ]
          },
          "execution_count": 2,
          "metadata": {},
          "output_type": "execute_result"
        }
      ],
      "source": [
        "nltk.download('stopwords')"
      ]
    },
    {
      "cell_type": "markdown",
      "metadata": {
        "id": "-eXG20BEtUOG"
      },
      "source": [
        "Collect google play reviews using google-play-scraper"
      ]
    },
    {
      "cell_type": "code",
      "execution_count": 7,
      "metadata": {
        "id": "iegri5bcR_0e"
      },
      "outputs": [],
      "source": [
        "g_reviews = reviews_all(\n",
        "        \"mobicip.com.safeBrowserff\", # application ID\n",
        "        sleep_milliseconds=0, # defaults to 0\n",
        "        lang='en', # defaults to 'en'\n",
        "        country='us', # defaults to 'us'\n",
        "        sort=Sort.NEWEST, # defaults to Sort.MOST_RELEVANT\n",
        "    )"
      ]
    },
    {
      "cell_type": "markdown",
      "metadata": {
        "id": "Zx9cqWB1uGHW"
      },
      "source": [
        "## Data pre-processing"
      ]
    },
    {
      "cell_type": "markdown",
      "metadata": {
        "id": "8zz08SUGtbnV"
      },
      "source": [
        "### Arrange data into dataframes"
      ]
    },
    {
      "cell_type": "code",
      "execution_count": 8,
      "metadata": {
        "id": "dyiLxb_2SMck"
      },
      "outputs": [],
      "source": [
        "g_df = pd.DataFrame(np.array(g_reviews),columns=['review'])\n",
        "g_df2 = g_df.join(pd.DataFrame(g_df.pop('review').tolist()))"
      ]
    },
    {
      "cell_type": "code",
      "execution_count": 9,
      "metadata": {
        "id": "xqhaHsohTHaO"
      },
      "outputs": [],
      "source": [
        "g_df2.drop(columns={'userImage', 'reviewCreatedVersion'},inplace = True) # drop unnecessary columns\n",
        "g_df2.rename(columns= {'score': 'rating','userName': 'user_name', 'reviewId': 'review_id', 'content': 'review_description', 'at': 'review_date', 'replyContent': 'developer_response', 'repliedAt': 'developer_response_date', 'thumbsUpCount': 'thumbs_up'},inplace = True)\n",
        "# g_df2.insert(loc=0, column='source', value='Google Play')\n",
        "# g_df2.insert(loc=3, column='review_title', value=None)\n",
        "# g_df2['laguage_code'] = 'en'\n",
        "# g_df2['country_code'] = 'us'"
      ]
    },
    {
      "cell_type": "code",
      "execution_count": 10,
      "metadata": {
        "colab": {
          "base_uri": "https://localhost:8080/"
        },
        "id": "465zh3akVH94",
        "outputId": "220e1aa5-2369-4b1d-f5cc-7b8f9e6fd235"
      },
      "outputs": [
        {
          "data": {
            "text/plain": [
              "(796, 9)"
            ]
          },
          "execution_count": 10,
          "metadata": {},
          "output_type": "execute_result"
        }
      ],
      "source": [
        "g_df2.shape"
      ]
    },
    {
      "cell_type": "code",
      "execution_count": 11,
      "metadata": {
        "id": "uNJiShJiVX9N"
      },
      "outputs": [],
      "source": [
        "# storing into a .csv file for future use\n",
        "\n",
        "g_df2.to_csv('play_reviews.csv')"
      ]
    },
    {
      "cell_type": "code",
      "execution_count": 12,
      "metadata": {
        "colab": {
          "base_uri": "https://localhost:8080/"
        },
        "id": "_vBKxUUOZQA7",
        "outputId": "e87cc3ec-1016-4ab2-cc08-cc1c90d4eeea"
      },
      "outputs": [
        {
          "data": {
            "text/plain": [
              "rating\n",
              "1    352\n",
              "5    321\n",
              "2     53\n",
              "3     36\n",
              "4     34\n",
              "Name: count, dtype: int64"
            ]
          },
          "execution_count": 12,
          "metadata": {},
          "output_type": "execute_result"
        }
      ],
      "source": [
        "g_df2['rating'].value_counts()"
      ]
    },
    {
      "cell_type": "code",
      "execution_count": 13,
      "metadata": {
        "colab": {
          "base_uri": "https://localhost:8080/",
          "height": 330
        },
        "id": "fJyfpSVCqI4_",
        "outputId": "03b3571a-4d3a-4a96-d345-a5acd7baa99e"
      },
      "outputs": [
        {
          "data": {
            "text/html": [
              "<div>\n",
              "<style scoped>\n",
              "    .dataframe tbody tr th:only-of-type {\n",
              "        vertical-align: middle;\n",
              "    }\n",
              "\n",
              "    .dataframe tbody tr th {\n",
              "        vertical-align: top;\n",
              "    }\n",
              "\n",
              "    .dataframe thead th {\n",
              "        text-align: right;\n",
              "    }\n",
              "</style>\n",
              "<table border=\"1\" class=\"dataframe\">\n",
              "  <thead>\n",
              "    <tr style=\"text-align: right;\">\n",
              "      <th></th>\n",
              "      <th>review_id</th>\n",
              "      <th>user_name</th>\n",
              "      <th>review_description</th>\n",
              "      <th>rating</th>\n",
              "      <th>thumbs_up</th>\n",
              "      <th>review_date</th>\n",
              "      <th>developer_response</th>\n",
              "      <th>developer_response_date</th>\n",
              "      <th>appVersion</th>\n",
              "    </tr>\n",
              "  </thead>\n",
              "  <tbody>\n",
              "    <tr>\n",
              "      <th>0</th>\n",
              "      <td>9b96fe32-d8bc-448f-bf37-eaa79506a6b6</td>\n",
              "      <td>Tugsan Topcuoglu</td>\n",
              "      <td>Waste of time</td>\n",
              "      <td>1</td>\n",
              "      <td>0</td>\n",
              "      <td>2024-03-06 03:58:33</td>\n",
              "      <td>None</td>\n",
              "      <td>NaT</td>\n",
              "      <td>2.2.8_r824</td>\n",
              "    </tr>\n",
              "    <tr>\n",
              "      <th>1</th>\n",
              "      <td>d5cb1046-ee6d-4fc5-ac03-c873e6ded9df</td>\n",
              "      <td>Roxanne LaRusso</td>\n",
              "      <td>I am extremely impressed with Mobicip's Custom...</td>\n",
              "      <td>5</td>\n",
              "      <td>0</td>\n",
              "      <td>2024-02-26 19:45:52</td>\n",
              "      <td>None</td>\n",
              "      <td>NaT</td>\n",
              "      <td>None</td>\n",
              "    </tr>\n",
              "    <tr>\n",
              "      <th>2</th>\n",
              "      <td>fe265e2e-117d-42b2-b8ca-63fc24e551b3</td>\n",
              "      <td>Williamcadder Mutevedzi</td>\n",
              "      <td>Friendly</td>\n",
              "      <td>5</td>\n",
              "      <td>0</td>\n",
              "      <td>2024-02-24 22:13:47</td>\n",
              "      <td>None</td>\n",
              "      <td>NaT</td>\n",
              "      <td>None</td>\n",
              "    </tr>\n",
              "    <tr>\n",
              "      <th>3</th>\n",
              "      <td>f44146dc-a7a3-445e-8183-6b153f482555</td>\n",
              "      <td>Justyna D</td>\n",
              "      <td>Does not work</td>\n",
              "      <td>1</td>\n",
              "      <td>0</td>\n",
              "      <td>2024-02-22 01:06:51</td>\n",
              "      <td>None</td>\n",
              "      <td>NaT</td>\n",
              "      <td>2.2.7_r812</td>\n",
              "    </tr>\n",
              "    <tr>\n",
              "      <th>4</th>\n",
              "      <td>69bc7a7b-1cca-409f-96b1-8b19288ab427</td>\n",
              "      <td>Liam Whitwam</td>\n",
              "      <td>Invades privacy</td>\n",
              "      <td>1</td>\n",
              "      <td>0</td>\n",
              "      <td>2024-02-13 09:18:45</td>\n",
              "      <td>None</td>\n",
              "      <td>NaT</td>\n",
              "      <td>2.2.4_r791</td>\n",
              "    </tr>\n",
              "  </tbody>\n",
              "</table>\n",
              "</div>"
            ],
            "text/plain": [
              "                              review_id                user_name  \\\n",
              "0  9b96fe32-d8bc-448f-bf37-eaa79506a6b6         Tugsan Topcuoglu   \n",
              "1  d5cb1046-ee6d-4fc5-ac03-c873e6ded9df          Roxanne LaRusso   \n",
              "2  fe265e2e-117d-42b2-b8ca-63fc24e551b3  Williamcadder Mutevedzi   \n",
              "3  f44146dc-a7a3-445e-8183-6b153f482555                Justyna D   \n",
              "4  69bc7a7b-1cca-409f-96b1-8b19288ab427             Liam Whitwam   \n",
              "\n",
              "                                  review_description  rating  thumbs_up  \\\n",
              "0                                      Waste of time       1          0   \n",
              "1  I am extremely impressed with Mobicip's Custom...       5          0   \n",
              "2                                           Friendly       5          0   \n",
              "3                                      Does not work       1          0   \n",
              "4                                    Invades privacy       1          0   \n",
              "\n",
              "          review_date developer_response developer_response_date  appVersion  \n",
              "0 2024-03-06 03:58:33               None                     NaT  2.2.8_r824  \n",
              "1 2024-02-26 19:45:52               None                     NaT        None  \n",
              "2 2024-02-24 22:13:47               None                     NaT        None  \n",
              "3 2024-02-22 01:06:51               None                     NaT  2.2.7_r812  \n",
              "4 2024-02-13 09:18:45               None                     NaT  2.2.4_r791  "
            ]
          },
          "execution_count": 13,
          "metadata": {},
          "output_type": "execute_result"
        }
      ],
      "source": [
        "g_df2.head()"
      ]
    },
    {
      "cell_type": "markdown",
      "metadata": {
        "id": "HP3iRlfVvZ3e"
      },
      "source": [
        "### Establishing data (X, Y)"
      ]
    },
    {
      "cell_type": "code",
      "execution_count": 3,
      "metadata": {
        "id": "mg2lE76qAowu"
      },
      "outputs": [],
      "source": [
        "# read data from csv\n",
        "\n",
        "df = pd.read_csv('play_reviews.csv')"
      ]
    },
    {
      "cell_type": "code",
      "execution_count": 4,
      "metadata": {
        "id": "dBuJ3Qy0BFSL"
      },
      "outputs": [],
      "source": [
        "# create new column for binary classification\n",
        "\n",
        "df['feedback'] = df['rating'].apply(lambda x: 0 if x < 3 else 1)"
      ]
    },
    {
      "cell_type": "code",
      "execution_count": 5,
      "metadata": {
        "id": "UPuInsCFsPOU"
      },
      "outputs": [],
      "source": [
        "# declare variables\n",
        "\n",
        "X = df['review_description']\n",
        "Y = df['feedback']"
      ]
    },
    {
      "cell_type": "code",
      "execution_count": 6,
      "metadata": {
        "colab": {
          "base_uri": "https://localhost:8080/"
        },
        "id": "r8dkv3WPrzi7",
        "outputId": "8763feea-5de7-431d-bd91-26135d69ed1e"
      },
      "outputs": [
        {
          "name": "stdout",
          "output_type": "stream",
          "text": [
            "Number of words: \n",
            "789\n"
          ]
        }
      ],
      "source": [
        "# get count of vocabulary\n",
        "\n",
        "print(\"Number of words: \")\n",
        "print(len(np.unique(np.hstack(X))))"
      ]
    },
    {
      "cell_type": "code",
      "execution_count": 7,
      "metadata": {
        "colab": {
          "base_uri": "https://localhost:8080/"
        },
        "id": "5JEy4SxuEBMR",
        "outputId": "dbd43a38-40d5-4db0-9f71-a22d38fd5b52"
      },
      "outputs": [
        {
          "data": {
            "text/plain": [
              "False"
            ]
          },
          "execution_count": 7,
          "metadata": {},
          "output_type": "execute_result"
        }
      ],
      "source": [
        "# check if any null values are present in reviews part\n",
        "\n",
        "X.isnull().values.any()"
      ]
    },
    {
      "cell_type": "markdown",
      "metadata": {
        "id": "EGUq3vk9FF6r"
      },
      "source": [
        "### Preparing data for embedding (Removal of stop words, punctuations, extra spaces)"
      ]
    },
    {
      "cell_type": "code",
      "execution_count": 29,
      "metadata": {
        "id": "gfa2scc6FFYM"
      },
      "outputs": [],
      "source": [
        "stopwords_list = set(stopwords.words('english'))"
      ]
    },
    {
      "cell_type": "code",
      "execution_count": 30,
      "metadata": {
        "id": "WetEZkZzFPg-"
      },
      "outputs": [],
      "source": [
        "class CustomPreprocess():\n",
        "\n",
        "    def __init__(self):\n",
        "        pass\n",
        "\n",
        "    def preprocess_text(self,sen):\n",
        "        sen = sen.lower()\n",
        "\n",
        "        # # Remove html tags\n",
        "        # sentence = remove_tags(sen)\n",
        "\n",
        "        # Remove punctuations and numbers\n",
        "        sen = re.sub('[^a-zA-Z]', ' ', sen)\n",
        "\n",
        "        # Single character removal\n",
        "        sen = re.sub(r\"\\s+[a-zA-Z]\\s+\", ' ', sen)\n",
        "\n",
        "        # Remove multiple spaces\n",
        "        sen = re.sub(r'\\s+', ' ', sen)\n",
        "\n",
        "        # Remove Stopwords\n",
        "        pattern = re.compile(r'\\b(' + r'|'.join(stopwords_list) + r')\\b\\s*')\n",
        "        sen = pattern.sub('', sen)\n",
        "\n",
        "        return sen"
      ]
    },
    {
      "cell_type": "code",
      "execution_count": 31,
      "metadata": {
        "id": "_mzD3AaYFpbu"
      },
      "outputs": [],
      "source": [
        "# define preprocessing\n",
        "\n",
        "custom = CustomPreprocess()\n",
        "X_new = []\n",
        "sentences = list(X)\n",
        "for sen in sentences:\n",
        "  X_new.append(custom.preprocess_text(sen))"
      ]
    },
    {
      "cell_type": "code",
      "execution_count": 32,
      "metadata": {
        "colab": {
          "base_uri": "https://localhost:8080/"
        },
        "id": "TE6Kjo2GIpjh",
        "outputId": "cdb71b97-5a3f-4c6d-a864-3490227493d0"
      },
      "outputs": [
        {
          "data": {
            "text/plain": [
              "str"
            ]
          },
          "execution_count": 32,
          "metadata": {},
          "output_type": "execute_result"
        }
      ],
      "source": [
        "type(X_new[0])"
      ]
    },
    {
      "cell_type": "code",
      "execution_count": 34,
      "metadata": {
        "id": "0TYra4J_tMbx"
      },
      "outputs": [],
      "source": [
        "# split data into training and testing sets\n",
        "\n",
        "X_train, X_test, Y_train, Y_test = train_test_split(X_new, Y, test_size = 0.25)"
      ]
    },
    {
      "cell_type": "code",
      "execution_count": null,
      "metadata": {},
      "outputs": [],
      "source": [
        "# tokenize the sentences into arrays of words\n",
        "\n",
        "word_tokenizer = Tokenizer()\n",
        "word_tokenizer.fit_on_texts(X_new)\n",
        "\n",
        "X_train = word_tokenizer.texts_to_sequences(X_train)\n",
        "X_test = word_tokenizer.texts_to_sequences(X_test)"
      ]
    },
    {
      "cell_type": "code",
      "execution_count": null,
      "metadata": {},
      "outputs": [
        {
          "data": {
            "text/plain": [
              "2222"
            ]
          },
          "metadata": {},
          "output_type": "display_data"
        }
      ],
      "source": [
        "vocab_length = len(word_tokenizer.word_index) + 1\n",
        "\n",
        "vocab_length"
      ]
    },
    {
      "cell_type": "code",
      "execution_count": null,
      "metadata": {},
      "outputs": [],
      "source": [
        "# Padding all reviews to fixed length 100\n",
        "\n",
        "X_train = pad_sequences(X_train, padding='post', maxlen = 100)\n",
        "X_test = pad_sequences(X_test, padding='post', maxlen = 100)"
      ]
    },
    {
      "cell_type": "markdown",
      "metadata": {},
      "source": [
        "### Data Processing - 2"
      ]
    },
    {
      "cell_type": "markdown",
      "metadata": {},
      "source": [
        "Remove punctuations, numbers and special characters"
      ]
    },
    {
      "cell_type": "code",
      "execution_count": 8,
      "metadata": {},
      "outputs": [],
      "source": [
        "# remove any special characters\n",
        "def remove_special_characters(text):\n",
        "        pattern = r'[^a-zA-Z\\s]'\n",
        "        return re.sub(pattern, \"\", text)\n",
        "\n",
        "X_2 = X.apply(remove_special_characters)\n",
        "\n",
        "# remove any words whose length is less than 3\n",
        "X_2 = X.apply(lambda x: ' '.join([word for word in x.split() if len(word) >= 3]))"
      ]
    },
    {
      "cell_type": "markdown",
      "metadata": {},
      "source": [
        "Tokenization"
      ]
    },
    {
      "cell_type": "code",
      "execution_count": 9,
      "metadata": {},
      "outputs": [
        {
          "data": {
            "text/plain": [
              "0                                        [Waste, time]\n",
              "1    [extremely, impressed, with, Mobicip's, Custom...\n",
              "2                                           [Friendly]\n",
              "3                                    [Does, not, work]\n",
              "4                                   [Invades, privacy]\n",
              "Name: review_description, dtype: object"
            ]
          },
          "execution_count": 9,
          "metadata": {},
          "output_type": "execute_result"
        }
      ],
      "source": [
        "tokens = X_2.apply(lambda x: x.split())\n",
        "\n",
        "tokens.head()"
      ]
    },
    {
      "cell_type": "markdown",
      "metadata": {},
      "source": [
        "Stemming"
      ]
    },
    {
      "cell_type": "code",
      "execution_count": 10,
      "metadata": {},
      "outputs": [
        {
          "data": {
            "text/plain": [
              "0                                         [wast, time]\n",
              "1    [extrem, impress, with, mobicip', custom, serv...\n",
              "2                                           [friendli]\n",
              "3                                     [doe, not, work]\n",
              "4                                     [invad, privaci]\n",
              "Name: review_description, dtype: object"
            ]
          },
          "execution_count": 10,
          "metadata": {},
          "output_type": "execute_result"
        }
      ],
      "source": [
        "from nltk import PorterStemmer\n",
        "\n",
        "ps = PorterStemmer()\n",
        "tokens = tokens.apply(lambda x: [ps.stem(i) for i in x])\n",
        "\n",
        "tokens.head()"
      ]
    },
    {
      "cell_type": "code",
      "execution_count": 11,
      "metadata": {},
      "outputs": [
        {
          "data": {
            "text/plain": [
              "0                                            wast time\n",
              "1    extrem impress with mobicip' custom service. t...\n",
              "2                                             friendli\n",
              "3                                         doe not work\n",
              "4                                        invad privaci\n",
              "Name: review_description, dtype: object"
            ]
          },
          "execution_count": 11,
          "metadata": {},
          "output_type": "execute_result"
        }
      ],
      "source": [
        "for i in range(len(tokens)):\n",
        "    tokens[i] = ' '.join(tokens[i])\n",
        "\n",
        "X_2 = tokens\n",
        "X_2.head()"
      ]
    },
    {
      "cell_type": "markdown",
      "metadata": {},
      "source": [
        "Bag Of Words"
      ]
    },
    {
      "cell_type": "code",
      "execution_count": 12,
      "metadata": {},
      "outputs": [
        {
          "data": {
            "text/html": [
              "<div>\n",
              "<style scoped>\n",
              "    .dataframe tbody tr th:only-of-type {\n",
              "        vertical-align: middle;\n",
              "    }\n",
              "\n",
              "    .dataframe tbody tr th {\n",
              "        vertical-align: top;\n",
              "    }\n",
              "\n",
              "    .dataframe thead th {\n",
              "        text-align: right;\n",
              "    }\n",
              "</style>\n",
              "<table border=\"1\" class=\"dataframe\">\n",
              "  <thead>\n",
              "    <tr style=\"text-align: right;\">\n",
              "      <th></th>\n",
              "      <th>0</th>\n",
              "      <th>1</th>\n",
              "      <th>2</th>\n",
              "      <th>3</th>\n",
              "      <th>4</th>\n",
              "      <th>5</th>\n",
              "      <th>6</th>\n",
              "      <th>7</th>\n",
              "      <th>8</th>\n",
              "      <th>9</th>\n",
              "      <th>...</th>\n",
              "      <th>2117</th>\n",
              "      <th>2118</th>\n",
              "      <th>2119</th>\n",
              "      <th>2120</th>\n",
              "      <th>2121</th>\n",
              "      <th>2122</th>\n",
              "      <th>2123</th>\n",
              "      <th>2124</th>\n",
              "      <th>2125</th>\n",
              "      <th>2126</th>\n",
              "    </tr>\n",
              "  </thead>\n",
              "  <tbody>\n",
              "    <tr>\n",
              "      <th>0</th>\n",
              "      <td>0</td>\n",
              "      <td>0</td>\n",
              "      <td>0</td>\n",
              "      <td>0</td>\n",
              "      <td>0</td>\n",
              "      <td>0</td>\n",
              "      <td>0</td>\n",
              "      <td>0</td>\n",
              "      <td>0</td>\n",
              "      <td>0</td>\n",
              "      <td>...</td>\n",
              "      <td>0</td>\n",
              "      <td>0</td>\n",
              "      <td>0</td>\n",
              "      <td>0</td>\n",
              "      <td>0</td>\n",
              "      <td>0</td>\n",
              "      <td>0</td>\n",
              "      <td>0</td>\n",
              "      <td>0</td>\n",
              "      <td>0</td>\n",
              "    </tr>\n",
              "    <tr>\n",
              "      <th>1</th>\n",
              "      <td>0</td>\n",
              "      <td>0</td>\n",
              "      <td>0</td>\n",
              "      <td>0</td>\n",
              "      <td>0</td>\n",
              "      <td>0</td>\n",
              "      <td>0</td>\n",
              "      <td>0</td>\n",
              "      <td>0</td>\n",
              "      <td>0</td>\n",
              "      <td>...</td>\n",
              "      <td>0</td>\n",
              "      <td>0</td>\n",
              "      <td>0</td>\n",
              "      <td>0</td>\n",
              "      <td>0</td>\n",
              "      <td>0</td>\n",
              "      <td>0</td>\n",
              "      <td>0</td>\n",
              "      <td>0</td>\n",
              "      <td>0</td>\n",
              "    </tr>\n",
              "    <tr>\n",
              "      <th>2</th>\n",
              "      <td>0</td>\n",
              "      <td>0</td>\n",
              "      <td>0</td>\n",
              "      <td>0</td>\n",
              "      <td>0</td>\n",
              "      <td>0</td>\n",
              "      <td>0</td>\n",
              "      <td>0</td>\n",
              "      <td>0</td>\n",
              "      <td>0</td>\n",
              "      <td>...</td>\n",
              "      <td>0</td>\n",
              "      <td>0</td>\n",
              "      <td>0</td>\n",
              "      <td>0</td>\n",
              "      <td>0</td>\n",
              "      <td>0</td>\n",
              "      <td>0</td>\n",
              "      <td>0</td>\n",
              "      <td>0</td>\n",
              "      <td>0</td>\n",
              "    </tr>\n",
              "    <tr>\n",
              "      <th>3</th>\n",
              "      <td>0</td>\n",
              "      <td>0</td>\n",
              "      <td>0</td>\n",
              "      <td>0</td>\n",
              "      <td>0</td>\n",
              "      <td>0</td>\n",
              "      <td>0</td>\n",
              "      <td>0</td>\n",
              "      <td>0</td>\n",
              "      <td>0</td>\n",
              "      <td>...</td>\n",
              "      <td>0</td>\n",
              "      <td>0</td>\n",
              "      <td>0</td>\n",
              "      <td>0</td>\n",
              "      <td>0</td>\n",
              "      <td>0</td>\n",
              "      <td>0</td>\n",
              "      <td>0</td>\n",
              "      <td>0</td>\n",
              "      <td>0</td>\n",
              "    </tr>\n",
              "    <tr>\n",
              "      <th>4</th>\n",
              "      <td>0</td>\n",
              "      <td>0</td>\n",
              "      <td>0</td>\n",
              "      <td>0</td>\n",
              "      <td>0</td>\n",
              "      <td>0</td>\n",
              "      <td>0</td>\n",
              "      <td>0</td>\n",
              "      <td>0</td>\n",
              "      <td>0</td>\n",
              "      <td>...</td>\n",
              "      <td>0</td>\n",
              "      <td>0</td>\n",
              "      <td>0</td>\n",
              "      <td>0</td>\n",
              "      <td>0</td>\n",
              "      <td>0</td>\n",
              "      <td>0</td>\n",
              "      <td>0</td>\n",
              "      <td>0</td>\n",
              "      <td>0</td>\n",
              "    </tr>\n",
              "  </tbody>\n",
              "</table>\n",
              "<p>5 rows × 2127 columns</p>\n",
              "</div>"
            ],
            "text/plain": [
              "   0     1     2     3     4     5     6     7     8     9     ...  2117  \\\n",
              "0     0     0     0     0     0     0     0     0     0     0  ...     0   \n",
              "1     0     0     0     0     0     0     0     0     0     0  ...     0   \n",
              "2     0     0     0     0     0     0     0     0     0     0  ...     0   \n",
              "3     0     0     0     0     0     0     0     0     0     0  ...     0   \n",
              "4     0     0     0     0     0     0     0     0     0     0  ...     0   \n",
              "\n",
              "   2118  2119  2120  2121  2122  2123  2124  2125  2126  \n",
              "0     0     0     0     0     0     0     0     0     0  \n",
              "1     0     0     0     0     0     0     0     0     0  \n",
              "2     0     0     0     0     0     0     0     0     0  \n",
              "3     0     0     0     0     0     0     0     0     0  \n",
              "4     0     0     0     0     0     0     0     0     0  \n",
              "\n",
              "[5 rows x 2127 columns]"
            ]
          },
          "execution_count": 12,
          "metadata": {},
          "output_type": "execute_result"
        }
      ],
      "source": [
        "from sklearn.feature_extraction.text import CountVectorizer\n",
        "\n",
        "bow_vectorizer = CountVectorizer(stop_words='english')\n",
        "bow = bow_vectorizer.fit_transform(X_2)\n",
        "df_bow = pd.DataFrame(bow.todense())\n",
        "\n",
        "df_bow.head()\n",
        "# np.sum(df_bow[0])"
      ]
    },
    {
      "cell_type": "code",
      "execution_count": 13,
      "metadata": {},
      "outputs": [
        {
          "data": {
            "text/plain": [
              "(796, 2127)"
            ]
          },
          "execution_count": 13,
          "metadata": {},
          "output_type": "execute_result"
        }
      ],
      "source": [
        "from sklearn.feature_extraction.text import TfidfVectorizer\n",
        "\n",
        "tfidf = TfidfVectorizer(stop_words='english')\n",
        "tfidf_matrix = tfidf.fit_transform(X_2)\n",
        "df_tfidf = pd.DataFrame(tfidf_matrix.todense())\n",
        "\n",
        "df_tfidf.shape\n"
      ]
    },
    {
      "cell_type": "code",
      "execution_count": 14,
      "metadata": {},
      "outputs": [
        {
          "data": {
            "text/plain": [
              "(796,)"
            ]
          },
          "execution_count": 14,
          "metadata": {},
          "output_type": "execute_result"
        }
      ],
      "source": [
        "Y.shape"
      ]
    },
    {
      "cell_type": "markdown",
      "metadata": {},
      "source": [
        "Train-test split"
      ]
    },
    {
      "cell_type": "code",
      "execution_count": 15,
      "metadata": {},
      "outputs": [],
      "source": [
        "X_train, X_test, Y_train, Y_test = train_test_split(df_tfidf, Y, test_size = 0.2)"
      ]
    },
    {
      "cell_type": "code",
      "execution_count": 16,
      "metadata": {},
      "outputs": [
        {
          "data": {
            "text/plain": [
              "(160, 2127)"
            ]
          },
          "execution_count": 16,
          "metadata": {},
          "output_type": "execute_result"
        }
      ],
      "source": [
        "X_test.shape"
      ]
    },
    {
      "cell_type": "markdown",
      "metadata": {
        "id": "ZTTjGndCAJkA"
      },
      "source": [
        "## Word embeddings"
      ]
    },
    {
      "cell_type": "markdown",
      "metadata": {},
      "source": [
        "### GloVe embeddings"
      ]
    },
    {
      "cell_type": "code",
      "execution_count": 20,
      "metadata": {
        "id": "6NuG3kXjNx5R"
      },
      "outputs": [],
      "source": [
        "# Load GloVe word embeddings and create an Embeddings Dictionary\n",
        "\n",
        "from numpy import asarray\n",
        "from numpy import zeros\n",
        "\n",
        "embeddings_dictionary = dict()\n",
        "glove_file = open('dataset/glove.6B.100d.txt', encoding=\"utf8\")\n",
        "\n",
        "for line in glove_file:\n",
        "    records = line.split()\n",
        "    word = records[0]\n",
        "    vector_dimensions = asarray(records[1:], dtype='float32')\n",
        "    embeddings_dictionary [word] = vector_dimensions\n",
        "\n",
        "glove_file.close()"
      ]
    },
    {
      "cell_type": "code",
      "execution_count": 21,
      "metadata": {
        "id": "E4yLKGwVNytv"
      },
      "outputs": [
        {
          "ename": "NameError",
          "evalue": "name 'vocab_length' is not defined",
          "output_type": "error",
          "traceback": [
            "\u001b[0;31m---------------------------------------------------------------------------\u001b[0m",
            "\u001b[0;31mNameError\u001b[0m                                 Traceback (most recent call last)",
            "Cell \u001b[0;32mIn[21], line 4\u001b[0m\n\u001b[1;32m      1\u001b[0m \u001b[38;5;66;03m# Create Embedding Matrix having 100 columns\u001b[39;00m\n\u001b[1;32m      2\u001b[0m \u001b[38;5;66;03m# Containing 100-dimensional GloVe word embeddings for all words in our corpus.\u001b[39;00m\n\u001b[0;32m----> 4\u001b[0m embedding_matrix \u001b[38;5;241m=\u001b[39m zeros((\u001b[43mvocab_length\u001b[49m, \u001b[38;5;241m100\u001b[39m))\n\u001b[1;32m      6\u001b[0m \u001b[38;5;28;01mfor\u001b[39;00m word, index \u001b[38;5;129;01min\u001b[39;00m word_tokenizer\u001b[38;5;241m.\u001b[39mword_index\u001b[38;5;241m.\u001b[39mitems():\n\u001b[1;32m      7\u001b[0m     embedding_vector \u001b[38;5;241m=\u001b[39m embeddings_dictionary\u001b[38;5;241m.\u001b[39mget(word)\n",
            "\u001b[0;31mNameError\u001b[0m: name 'vocab_length' is not defined"
          ]
        }
      ],
      "source": [
        "# Create Embedding Matrix having 100 columns\n",
        "# Containing 100-dimensional GloVe word embeddings for all words in our corpus.\n",
        "\n",
        "embedding_matrix = zeros((vocab_length, 100))\n",
        "\n",
        "for word, index in word_tokenizer.word_index.items():\n",
        "    embedding_vector = embeddings_dictionary.get(word)\n",
        "    if embedding_vector is not None:\n",
        "        embedding_matrix[index] = embedding_vector"
      ]
    },
    {
      "cell_type": "markdown",
      "metadata": {
        "id": "uuJuVBPDvxBc"
      },
      "source": [
        "## Models"
      ]
    },
    {
      "cell_type": "markdown",
      "metadata": {
        "id": "_H4i_qFoOMlf"
      },
      "source": [
        "### ANN"
      ]
    },
    {
      "cell_type": "code",
      "execution_count": 19,
      "metadata": {
        "colab": {
          "base_uri": "https://localhost:8080/"
        },
        "id": "7dYcPJ2Gvv0N",
        "outputId": "be3e7aab-556b-42f7-8bac-b41a5f20becb"
      },
      "outputs": [
        {
          "ename": "NameError",
          "evalue": "name 'vocab_length' is not defined",
          "output_type": "error",
          "traceback": [
            "\u001b[0;31m---------------------------------------------------------------------------\u001b[0m",
            "\u001b[0;31mNameError\u001b[0m                                 Traceback (most recent call last)",
            "Cell \u001b[0;32mIn[19], line 4\u001b[0m\n\u001b[1;32m      1\u001b[0m \u001b[38;5;66;03m# simple neural network\u001b[39;00m\n\u001b[1;32m      3\u001b[0m ann_model \u001b[38;5;241m=\u001b[39m Sequential([\n\u001b[0;32m----> 4\u001b[0m     Embedding(\u001b[43mvocab_length\u001b[49m, \u001b[38;5;241m100\u001b[39m, weights \u001b[38;5;241m=\u001b[39m [embedding_matrix], input_length \u001b[38;5;241m=\u001b[39m \u001b[38;5;241m100\u001b[39m, trainable \u001b[38;5;241m=\u001b[39m \u001b[38;5;28;01mFalse\u001b[39;00m),\n\u001b[1;32m      5\u001b[0m     Flatten(),\n\u001b[1;32m      6\u001b[0m     Dense(\u001b[38;5;241m1\u001b[39m, activation \u001b[38;5;241m=\u001b[39m \u001b[38;5;124m'\u001b[39m\u001b[38;5;124msigmoid\u001b[39m\u001b[38;5;124m'\u001b[39m),\n\u001b[1;32m      7\u001b[0m ])\n\u001b[1;32m      9\u001b[0m \u001b[38;5;66;03m# compile the model\u001b[39;00m\n\u001b[1;32m     11\u001b[0m ann_model\u001b[38;5;241m.\u001b[39mcompile(optimizer \u001b[38;5;241m=\u001b[39m \u001b[38;5;124m'\u001b[39m\u001b[38;5;124madam\u001b[39m\u001b[38;5;124m'\u001b[39m, loss \u001b[38;5;241m=\u001b[39m \u001b[38;5;124m'\u001b[39m\u001b[38;5;124mbinary_crossentropy\u001b[39m\u001b[38;5;124m'\u001b[39m, metrics \u001b[38;5;241m=\u001b[39m [\u001b[38;5;124m'\u001b[39m\u001b[38;5;124macc\u001b[39m\u001b[38;5;124m'\u001b[39m])\n",
            "\u001b[0;31mNameError\u001b[0m: name 'vocab_length' is not defined"
          ]
        }
      ],
      "source": [
        "# simple neural network\n",
        "\n",
        "ann_model = Sequential([\n",
        "    Embedding(vocab_length, 100, weights = [embedding_matrix], input_length = 100, trainable = False),\n",
        "    Flatten(),\n",
        "    Dense(1, activation = 'sigmoid'),\n",
        "])\n",
        "\n",
        "# compile the model\n",
        "\n",
        "ann_model.compile(optimizer = 'adam', loss = 'binary_crossentropy', metrics = ['acc'])\n",
        "\n",
        "print(ann_model.summary())"
      ]
    },
    {
      "cell_type": "code",
      "execution_count": 26,
      "metadata": {
        "colab": {
          "base_uri": "https://localhost:8080/"
        },
        "id": "aJ1rtx1YPuMn",
        "outputId": "0291a37c-43f6-498a-834c-339dbdb6c305"
      },
      "outputs": [
        {
          "name": "stdout",
          "output_type": "stream",
          "text": [
            "Epoch 1/5\n",
            "3/3 - 2s - loss: 0.7184 - acc: 0.4986 - val_loss: 0.6603 - val_acc: 0.6556 - 2s/epoch - 546ms/step\n",
            "Epoch 2/5\n",
            "3/3 - 0s - loss: 0.6390 - acc: 0.6387 - val_loss: 0.6391 - val_acc: 0.7000 - 96ms/epoch - 32ms/step\n",
            "Epoch 3/5\n",
            "3/3 - 0s - loss: 0.5859 - acc: 0.7703 - val_loss: 0.6262 - val_acc: 0.7444 - 106ms/epoch - 35ms/step\n",
            "Epoch 4/5\n",
            "3/3 - 0s - loss: 0.5490 - acc: 0.8039 - val_loss: 0.6136 - val_acc: 0.7667 - 96ms/epoch - 32ms/step\n",
            "Epoch 5/5\n",
            "3/3 - 0s - loss: 0.5201 - acc: 0.8487 - val_loss: 0.5988 - val_acc: 0.7667 - 138ms/epoch - 46ms/step\n"
          ]
        }
      ],
      "source": [
        "# train the model\n",
        "\n",
        "ann_history = ann_model.fit(X_train, Y_train, batch_size = 128, epochs = 5, verbose = 2, validation_split = 0.2)"
      ]
    },
    {
      "cell_type": "code",
      "execution_count": 27,
      "metadata": {
        "colab": {
          "base_uri": "https://localhost:8080/"
        },
        "id": "su2qpnvMQMCX",
        "outputId": "754633d0-06da-49cc-e859-b50be79fba82"
      },
      "outputs": [
        {
          "name": "stdout",
          "output_type": "stream",
          "text": [
            "5/5 [==============================] - 0s 3ms/step - loss: 0.6588 - acc: 0.7133\n"
          ]
        }
      ],
      "source": [
        "# get the loss and accuracy\n",
        "\n",
        "ann_score = ann_model.evaluate(X_test, Y_test, verbose = 1)"
      ]
    },
    {
      "cell_type": "markdown",
      "metadata": {},
      "source": [
        "### ANN - 2"
      ]
    },
    {
      "cell_type": "code",
      "execution_count": 17,
      "metadata": {},
      "outputs": [
        {
          "data": {
            "text/plain": [
              "(636, 2127)"
            ]
          },
          "execution_count": 17,
          "metadata": {},
          "output_type": "execute_result"
        }
      ],
      "source": [
        "X_train.shape"
      ]
    },
    {
      "cell_type": "code",
      "execution_count": 18,
      "metadata": {},
      "outputs": [
        {
          "name": "stdout",
          "output_type": "stream",
          "text": [
            "Model: \"sequential\"\n",
            "_________________________________________________________________\n",
            " Layer (type)                Output Shape              Param #   \n",
            "=================================================================\n",
            " dense (Dense)               (None, 2127)              4526256   \n",
            "                                                                 \n",
            " dense_1 (Dense)             (None, 531)               1129968   \n",
            "                                                                 \n",
            " dense_2 (Dense)             (None, 1)                 532       \n",
            "                                                                 \n",
            "=================================================================\n",
            "Total params: 5656756 (21.58 MB)\n",
            "Trainable params: 5656756 (21.58 MB)\n",
            "Non-trainable params: 0 (0.00 Byte)\n",
            "_________________________________________________________________\n",
            "None\n"
          ]
        },
        {
          "name": "stderr",
          "output_type": "stream",
          "text": [
            "2024-03-15 10:36:18.414702: I tensorflow/compiler/xla/stream_executor/cuda/cuda_gpu_executor.cc:995] successful NUMA node read from SysFS had negative value (-1), but there must be at least one NUMA node, so returning NUMA node zero. See more at https://github.com/torvalds/linux/blob/v6.0/Documentation/ABI/testing/sysfs-bus-pci#L344-L355\n",
            "2024-03-15 10:36:18.415276: W tensorflow/core/common_runtime/gpu/gpu_device.cc:1960] Cannot dlopen some GPU libraries. Please make sure the missing libraries mentioned above are installed properly if you would like to use GPU. Follow the guide at https://www.tensorflow.org/install/gpu for how to download and setup the required libraries for your platform.\n",
            "Skipping registering GPU devices...\n"
          ]
        }
      ],
      "source": [
        "ann_model_2 = Sequential([\n",
        "        Dense(X_train.shape[1], input_dim = X_train.shape[1], activation  = 'relu'),\n",
        "        Dense(units = X_train.shape[1]//4, activation = 'relu'),\n",
        "        Dense(1, activation = 'sigmoid')\n",
        "])\n",
        "\n",
        "ann_model_2.compile(optimizer = 'adam', loss = 'binary_crossentropy', metrics = ['acc'])\n",
        "\n",
        "print(ann_model_2.summary())"
      ]
    },
    {
      "cell_type": "code",
      "execution_count": 19,
      "metadata": {},
      "outputs": [
        {
          "name": "stdout",
          "output_type": "stream",
          "text": [
            "Epoch 1/10\n",
            "5/5 - 1s - loss: 0.6746 - acc: 0.6109 - val_loss: 0.6390 - val_acc: 0.7812 - 1s/epoch - 207ms/step\n",
            "Epoch 2/10\n",
            "5/5 - 0s - loss: 0.4823 - acc: 0.9570 - val_loss: 0.4956 - val_acc: 0.8750 - 316ms/epoch - 63ms/step\n",
            "Epoch 3/10\n",
            "5/5 - 0s - loss: 0.1988 - acc: 0.9719 - val_loss: 0.4067 - val_acc: 0.6875 - 313ms/epoch - 63ms/step\n",
            "Epoch 4/10\n",
            "5/5 - 0s - loss: 0.0594 - acc: 0.9934 - val_loss: 0.4654 - val_acc: 0.7812 - 315ms/epoch - 63ms/step\n",
            "Epoch 5/10\n",
            "5/5 - 0s - loss: 0.0164 - acc: 0.9983 - val_loss: 0.5931 - val_acc: 0.7812 - 309ms/epoch - 62ms/step\n",
            "Epoch 6/10\n",
            "5/5 - 0s - loss: 0.0061 - acc: 0.9983 - val_loss: 0.7412 - val_acc: 0.7500 - 310ms/epoch - 62ms/step\n",
            "Epoch 7/10\n",
            "5/5 - 0s - loss: 0.0012 - acc: 1.0000 - val_loss: 0.8538 - val_acc: 0.6875 - 315ms/epoch - 63ms/step\n",
            "Epoch 8/10\n",
            "5/5 - 0s - loss: 6.4965e-04 - acc: 1.0000 - val_loss: 0.9110 - val_acc: 0.7500 - 309ms/epoch - 62ms/step\n",
            "Epoch 9/10\n",
            "5/5 - 0s - loss: 3.0442e-04 - acc: 1.0000 - val_loss: 0.9458 - val_acc: 0.7500 - 310ms/epoch - 62ms/step\n",
            "Epoch 10/10\n",
            "5/5 - 0s - loss: 1.7853e-04 - acc: 1.0000 - val_loss: 0.9708 - val_acc: 0.7188 - 315ms/epoch - 63ms/step\n"
          ]
        }
      ],
      "source": [
        "ann_history_2 = ann_model_2.fit(X_train, Y_train, batch_size = 128, epochs = 10, verbose = 2, validation_split = 0.05)"
      ]
    },
    {
      "cell_type": "code",
      "execution_count": 20,
      "metadata": {},
      "outputs": [
        {
          "name": "stdout",
          "output_type": "stream",
          "text": [
            "5/5 [==============================] - 0s 6ms/step - loss: 0.6015 - acc: 0.8625\n"
          ]
        }
      ],
      "source": [
        "ann_score_2 = ann_model_2.evaluate(X_test, Y_test, verbose = 1)"
      ]
    },
    {
      "cell_type": "markdown",
      "metadata": {
        "id": "0mYTTVKdXUBw"
      },
      "source": [
        "### CNN"
      ]
    },
    {
      "cell_type": "code",
      "execution_count": 29,
      "metadata": {
        "colab": {
          "base_uri": "https://localhost:8080/"
        },
        "id": "qWYBLYTEXebe",
        "outputId": "920c0dca-1152-411e-f78f-dfc41d8767dd"
      },
      "outputs": [
        {
          "name": "stdout",
          "output_type": "stream",
          "text": [
            "Model: \"sequential_1\"\n",
            "_________________________________________________________________\n",
            " Layer (type)                Output Shape              Param #   \n",
            "=================================================================\n",
            " embedding_1 (Embedding)     (None, 100, 100)          224200    \n",
            "                                                                 \n",
            " conv1d (Conv1D)             (None, 96, 128)           64128     \n",
            "                                                                 \n",
            " global_max_pooling1d (Glob  (None, 128)               0         \n",
            " alMaxPooling1D)                                                 \n",
            "                                                                 \n",
            " dense_1 (Dense)             (None, 1)                 129       \n",
            "                                                                 \n",
            "=================================================================\n",
            "Total params: 288457 (1.10 MB)\n",
            "Trainable params: 64257 (251.00 KB)\n",
            "Non-trainable params: 224200 (875.78 KB)\n",
            "_________________________________________________________________\n",
            "None\n"
          ]
        }
      ],
      "source": [
        "from keras.layers import Conv1D\n",
        "\n",
        "# define the model\n",
        "\n",
        "cnn_model = Sequential([\n",
        "    Embedding(vocab_length, 100, weights = [embedding_matrix], input_length = 100, trainable = False),\n",
        "    Conv1D(128, 5, activation = 'relu'),\n",
        "    GlobalMaxPooling1D(),\n",
        "    Dense(1, activation = 'sigmoid')\n",
        "])\n",
        "\n",
        "# compile the model\n",
        "\n",
        "cnn_model.compile(optimizer = 'adam', loss = 'binary_crossentropy', metrics = ['acc'])\n",
        "\n",
        "print(cnn_model.summary())"
      ]
    },
    {
      "cell_type": "code",
      "execution_count": 30,
      "metadata": {
        "colab": {
          "base_uri": "https://localhost:8080/"
        },
        "id": "WaLamX5KZr-H",
        "outputId": "8df2301e-fac5-4a96-8974-21abdd3f29fd"
      },
      "outputs": [
        {
          "name": "stdout",
          "output_type": "stream",
          "text": [
            "Epoch 1/5\n",
            "3/3 - 1s - loss: 0.6915 - acc: 0.5602 - val_loss: 0.5871 - val_acc: 0.7111 - 1s/epoch - 395ms/step\n",
            "Epoch 2/5\n",
            "3/3 - 0s - loss: 0.5368 - acc: 0.8235 - val_loss: 0.5383 - val_acc: 0.8333 - 286ms/epoch - 95ms/step\n",
            "Epoch 3/5\n",
            "3/3 - 0s - loss: 0.4439 - acc: 0.8964 - val_loss: 0.4941 - val_acc: 0.8000 - 293ms/epoch - 98ms/step\n",
            "Epoch 4/5\n",
            "3/3 - 0s - loss: 0.3757 - acc: 0.9076 - val_loss: 0.4617 - val_acc: 0.8444 - 292ms/epoch - 97ms/step\n",
            "Epoch 5/5\n",
            "3/3 - 0s - loss: 0.3275 - acc: 0.9524 - val_loss: 0.4416 - val_acc: 0.8333 - 311ms/epoch - 104ms/step\n"
          ]
        }
      ],
      "source": [
        "cnn_history = cnn_model.fit(X_train, Y_train, batch_size = 128, epochs = 5, verbose = 2, validation_split = 0.2)"
      ]
    },
    {
      "cell_type": "code",
      "execution_count": 31,
      "metadata": {
        "colab": {
          "base_uri": "https://localhost:8080/"
        },
        "id": "6vqmoIjdaJIx",
        "outputId": "6c0a8d7d-7c43-4b85-edb9-56ae95b6c18b"
      },
      "outputs": [
        {
          "name": "stdout",
          "output_type": "stream",
          "text": [
            "5/5 [==============================] - 0s 19ms/step - loss: 0.4937 - acc: 0.7933\n"
          ]
        }
      ],
      "source": [
        "cnn_score = cnn_model.evaluate(X_test, Y_test, verbose = 1)"
      ]
    },
    {
      "cell_type": "markdown",
      "metadata": {
        "id": "21JzY7bhamEZ"
      },
      "source": [
        "### LSTM"
      ]
    },
    {
      "cell_type": "code",
      "execution_count": 32,
      "metadata": {
        "id": "YiaFVuGUaSYj"
      },
      "outputs": [],
      "source": [
        "from keras.layers import LSTM"
      ]
    },
    {
      "cell_type": "code",
      "execution_count": 33,
      "metadata": {
        "colab": {
          "base_uri": "https://localhost:8080/"
        },
        "id": "qbxdS3pSarE1",
        "outputId": "4c1c6def-d044-485d-f499-ca26d54accf5"
      },
      "outputs": [
        {
          "name": "stdout",
          "output_type": "stream",
          "text": [
            "Model: \"sequential_2\"\n",
            "_________________________________________________________________\n",
            " Layer (type)                Output Shape              Param #   \n",
            "=================================================================\n",
            " embedding_2 (Embedding)     (None, 100, 100)          224200    \n",
            "                                                                 \n",
            " lstm (LSTM)                 (None, 128)               117248    \n",
            "                                                                 \n",
            " dense_2 (Dense)             (None, 1)                 129       \n",
            "                                                                 \n",
            "=================================================================\n",
            "Total params: 341577 (1.30 MB)\n",
            "Trainable params: 117377 (458.50 KB)\n",
            "Non-trainable params: 224200 (875.78 KB)\n",
            "_________________________________________________________________\n",
            "None\n"
          ]
        }
      ],
      "source": [
        "# define the model\n",
        "\n",
        "rnn_model = Sequential([\n",
        "    Embedding(vocab_length, 100, weights = [embedding_matrix], input_length = 100, trainable = False),\n",
        "    LSTM(128),\n",
        "    Dense(1, activation = 'sigmoid')\n",
        "])\n",
        "\n",
        "# compile the model\n",
        "\n",
        "rnn_model.compile(optimizer = 'adam', loss = 'binary_crossentropy', metrics = ['acc'])\n",
        "\n",
        "print(rnn_model.summary())"
      ]
    },
    {
      "cell_type": "code",
      "execution_count": 34,
      "metadata": {
        "colab": {
          "base_uri": "https://localhost:8080/"
        },
        "id": "Bmp3Qj2gbJbV",
        "outputId": "43a41526-cbe6-441e-cc12-eeee14386395"
      },
      "outputs": [
        {
          "name": "stdout",
          "output_type": "stream",
          "text": [
            "Epoch 1/5\n",
            "3/3 - 5s - loss: 0.6923 - acc: 0.5574 - val_loss: 0.6872 - val_acc: 0.6333 - 5s/epoch - 2s/step\n",
            "Epoch 2/5\n",
            "3/3 - 1s - loss: 0.6855 - acc: 0.5966 - val_loss: 0.6781 - val_acc: 0.6444 - 943ms/epoch - 314ms/step\n",
            "Epoch 3/5\n",
            "3/3 - 1s - loss: 0.6774 - acc: 0.5966 - val_loss: 0.6605 - val_acc: 0.6444 - 934ms/epoch - 311ms/step\n",
            "Epoch 4/5\n",
            "3/3 - 1s - loss: 0.6710 - acc: 0.5994 - val_loss: 0.6509 - val_acc: 0.6444 - 923ms/epoch - 308ms/step\n",
            "Epoch 5/5\n",
            "3/3 - 1s - loss: 0.6690 - acc: 0.5994 - val_loss: 0.6513 - val_acc: 0.6444 - 977ms/epoch - 326ms/step\n"
          ]
        }
      ],
      "source": [
        "rnn_history = rnn_model.fit(X_train, Y_train, batch_size = 128, epochs = 5, verbose = 2, validation_split = 0.2)"
      ]
    },
    {
      "cell_type": "code",
      "execution_count": 35,
      "metadata": {
        "colab": {
          "base_uri": "https://localhost:8080/"
        },
        "id": "dQBpZF-ubVZm",
        "outputId": "57e46ac7-5fd1-42a1-84f7-669b63423573"
      },
      "outputs": [
        {
          "name": "stdout",
          "output_type": "stream",
          "text": [
            "5/5 [==============================] - 1s 110ms/step - loss: 0.6976 - acc: 0.5400\n"
          ]
        }
      ],
      "source": [
        "rnn_score = rnn_model.evaluate(X_test, Y_test, verbose = 1)"
      ]
    },
    {
      "cell_type": "markdown",
      "metadata": {
        "id": "eHs6CoSsvThb"
      },
      "source": [
        "## Testing models"
      ]
    },
    {
      "cell_type": "code",
      "execution_count": 21,
      "metadata": {
        "colab": {
          "base_uri": "https://localhost:8080/"
        },
        "id": "_qGEwp-Jv9yJ",
        "outputId": "fceb077b-a2f9-4525-94d0-aed318473f30"
      },
      "outputs": [
        {
          "name": "stdout",
          "output_type": "stream",
          "text": [
            "testing dataset - \n",
            "               test_reviews\n",
            "0                i liked it\n",
            "1                      nice\n",
            "2  it was buggy and lagging\n",
            "3            waste of money\n",
            "4                  worth it\n",
            "1/1 [==============================] - 0s 73ms/step\n",
            "[0.40803406] [0.99945974] [0.01426365] [0.0013396] [0.9977129]\n"
          ]
        }
      ],
      "source": [
        "sen = pd.read_csv('dataset/test_dataset.csv')\n",
        "print(\"testing dataset - \")\n",
        "print(sen.head())\n",
        "\n",
        "test = sen['test_reviews'].apply(remove_special_characters)\n",
        "test = sen['test_reviews'].apply(lambda x: ' '.join([word for word in x.split() if len(word) >= 3]))\n",
        "tokens = test.apply(lambda x: x.split())\n",
        "for i in range(len(tokens)):\n",
        "    tokens[i] = ' '.join(tokens[i])\n",
        "test = tokens\n",
        "\n",
        "tfidf_test = tfidf.transform(test)\n",
        "test_df = pd.DataFrame(tfidf_test.todense())\n",
        "\n",
        "output = ann_model_2.predict(test_df)\n",
        "\n",
        "print(*output)"
      ]
    },
    {
      "cell_type": "code",
      "execution_count": null,
      "metadata": {
        "id": "cR4Uj1ZR2Gae"
      },
      "outputs": [],
      "source": []
    }
  ],
  "metadata": {
    "colab": {
      "provenance": []
    },
    "kernelspec": {
      "display_name": "Python 3",
      "name": "python3"
    },
    "language_info": {
      "codemirror_mode": {
        "name": "ipython",
        "version": 3
      },
      "file_extension": ".py",
      "mimetype": "text/x-python",
      "name": "python",
      "nbconvert_exporter": "python",
      "pygments_lexer": "ipython3",
      "version": "3.8.10"
    }
  },
  "nbformat": 4,
  "nbformat_minor": 0
}
